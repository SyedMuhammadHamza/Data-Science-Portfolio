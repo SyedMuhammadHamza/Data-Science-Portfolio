{
 "cells": [
  {
   "cell_type": "markdown",
   "id": "prospective-promise",
   "metadata": {},
   "source": [
    "   # kc house data Analysis and Prediction"
   ]
  },
  {
   "cell_type": "code",
   "execution_count": 294,
   "id": "built-pension",
   "metadata": {},
   "outputs": [],
   "source": [
    "import pandas as pd\n",
    "import numpy as  np\n",
    "import seaborn as sb\n",
    "import seaborn as sns\n",
    "import matplotlib.pyplot as plt\n",
    "from sklearn.preprocessing import StandardScaler\n",
    "from sklearn import linear_model\n",
    "from sklearn.tree import DecisionTreeRegressor\n",
    "from sklearn.ensemble import RandomForestRegressor\n",
    "from sklearn.ensemble import RandomForestClassifier,AdaBoostClassifier,GradientBoostingClassifier\n",
    "from sklearn.metrics import mean_squared_error\n",
    "from sklearn.metrics import mean_absolute_error\n",
    "\n",
    "\n"
   ]
  },
  {
   "cell_type": "code",
   "execution_count": 213,
   "id": "viral-provision",
   "metadata": {},
   "outputs": [],
   "source": [
    "data=pd.read_csv('kc_house_data.csv',delimiter=',')\n"
   ]
  },
  {
   "cell_type": "code",
   "execution_count": 214,
   "id": "defensive-listing",
   "metadata": {},
   "outputs": [
    {
     "data": {
      "text/html": [
       "<div>\n",
       "<style scoped>\n",
       "    .dataframe tbody tr th:only-of-type {\n",
       "        vertical-align: middle;\n",
       "    }\n",
       "\n",
       "    .dataframe tbody tr th {\n",
       "        vertical-align: top;\n",
       "    }\n",
       "\n",
       "    .dataframe thead th {\n",
       "        text-align: right;\n",
       "    }\n",
       "</style>\n",
       "<table border=\"1\" class=\"dataframe\">\n",
       "  <thead>\n",
       "    <tr style=\"text-align: right;\">\n",
       "      <th></th>\n",
       "      <th>id</th>\n",
       "      <th>date</th>\n",
       "      <th>price</th>\n",
       "      <th>bedrooms</th>\n",
       "      <th>bathrooms</th>\n",
       "      <th>sqft_living</th>\n",
       "      <th>sqft_lot</th>\n",
       "      <th>floors</th>\n",
       "      <th>waterfront</th>\n",
       "      <th>view</th>\n",
       "      <th>...</th>\n",
       "      <th>grade</th>\n",
       "      <th>sqft_above</th>\n",
       "      <th>sqft_basement</th>\n",
       "      <th>yr_built</th>\n",
       "      <th>yr_renovated</th>\n",
       "      <th>zipcode</th>\n",
       "      <th>lat</th>\n",
       "      <th>long</th>\n",
       "      <th>sqft_living15</th>\n",
       "      <th>sqft_lot15</th>\n",
       "    </tr>\n",
       "  </thead>\n",
       "  <tbody>\n",
       "    <tr>\n",
       "      <th>0</th>\n",
       "      <td>7129300520</td>\n",
       "      <td>20141013T000000</td>\n",
       "      <td>221900.0</td>\n",
       "      <td>3</td>\n",
       "      <td>1.00</td>\n",
       "      <td>1180</td>\n",
       "      <td>5650</td>\n",
       "      <td>1.0</td>\n",
       "      <td>0</td>\n",
       "      <td>0</td>\n",
       "      <td>...</td>\n",
       "      <td>7</td>\n",
       "      <td>1180</td>\n",
       "      <td>0</td>\n",
       "      <td>1955</td>\n",
       "      <td>0</td>\n",
       "      <td>98178</td>\n",
       "      <td>47.5112</td>\n",
       "      <td>-122.257</td>\n",
       "      <td>1340</td>\n",
       "      <td>5650</td>\n",
       "    </tr>\n",
       "    <tr>\n",
       "      <th>1</th>\n",
       "      <td>6414100192</td>\n",
       "      <td>20141209T000000</td>\n",
       "      <td>538000.0</td>\n",
       "      <td>3</td>\n",
       "      <td>2.25</td>\n",
       "      <td>2570</td>\n",
       "      <td>7242</td>\n",
       "      <td>2.0</td>\n",
       "      <td>0</td>\n",
       "      <td>0</td>\n",
       "      <td>...</td>\n",
       "      <td>7</td>\n",
       "      <td>2170</td>\n",
       "      <td>400</td>\n",
       "      <td>1951</td>\n",
       "      <td>1991</td>\n",
       "      <td>98125</td>\n",
       "      <td>47.7210</td>\n",
       "      <td>-122.319</td>\n",
       "      <td>1690</td>\n",
       "      <td>7639</td>\n",
       "    </tr>\n",
       "    <tr>\n",
       "      <th>2</th>\n",
       "      <td>5631500400</td>\n",
       "      <td>20150225T000000</td>\n",
       "      <td>180000.0</td>\n",
       "      <td>2</td>\n",
       "      <td>1.00</td>\n",
       "      <td>770</td>\n",
       "      <td>10000</td>\n",
       "      <td>1.0</td>\n",
       "      <td>0</td>\n",
       "      <td>0</td>\n",
       "      <td>...</td>\n",
       "      <td>6</td>\n",
       "      <td>770</td>\n",
       "      <td>0</td>\n",
       "      <td>1933</td>\n",
       "      <td>0</td>\n",
       "      <td>98028</td>\n",
       "      <td>47.7379</td>\n",
       "      <td>-122.233</td>\n",
       "      <td>2720</td>\n",
       "      <td>8062</td>\n",
       "    </tr>\n",
       "    <tr>\n",
       "      <th>3</th>\n",
       "      <td>2487200875</td>\n",
       "      <td>20141209T000000</td>\n",
       "      <td>604000.0</td>\n",
       "      <td>4</td>\n",
       "      <td>3.00</td>\n",
       "      <td>1960</td>\n",
       "      <td>5000</td>\n",
       "      <td>1.0</td>\n",
       "      <td>0</td>\n",
       "      <td>0</td>\n",
       "      <td>...</td>\n",
       "      <td>7</td>\n",
       "      <td>1050</td>\n",
       "      <td>910</td>\n",
       "      <td>1965</td>\n",
       "      <td>0</td>\n",
       "      <td>98136</td>\n",
       "      <td>47.5208</td>\n",
       "      <td>-122.393</td>\n",
       "      <td>1360</td>\n",
       "      <td>5000</td>\n",
       "    </tr>\n",
       "    <tr>\n",
       "      <th>4</th>\n",
       "      <td>1954400510</td>\n",
       "      <td>20150218T000000</td>\n",
       "      <td>510000.0</td>\n",
       "      <td>3</td>\n",
       "      <td>2.00</td>\n",
       "      <td>1680</td>\n",
       "      <td>8080</td>\n",
       "      <td>1.0</td>\n",
       "      <td>0</td>\n",
       "      <td>0</td>\n",
       "      <td>...</td>\n",
       "      <td>8</td>\n",
       "      <td>1680</td>\n",
       "      <td>0</td>\n",
       "      <td>1987</td>\n",
       "      <td>0</td>\n",
       "      <td>98074</td>\n",
       "      <td>47.6168</td>\n",
       "      <td>-122.045</td>\n",
       "      <td>1800</td>\n",
       "      <td>7503</td>\n",
       "    </tr>\n",
       "  </tbody>\n",
       "</table>\n",
       "<p>5 rows × 21 columns</p>\n",
       "</div>"
      ],
      "text/plain": [
       "           id             date     price  bedrooms  bathrooms  sqft_living  \\\n",
       "0  7129300520  20141013T000000  221900.0         3       1.00         1180   \n",
       "1  6414100192  20141209T000000  538000.0         3       2.25         2570   \n",
       "2  5631500400  20150225T000000  180000.0         2       1.00          770   \n",
       "3  2487200875  20141209T000000  604000.0         4       3.00         1960   \n",
       "4  1954400510  20150218T000000  510000.0         3       2.00         1680   \n",
       "\n",
       "   sqft_lot  floors  waterfront  view  ...  grade  sqft_above  sqft_basement  \\\n",
       "0      5650     1.0           0     0  ...      7        1180              0   \n",
       "1      7242     2.0           0     0  ...      7        2170            400   \n",
       "2     10000     1.0           0     0  ...      6         770              0   \n",
       "3      5000     1.0           0     0  ...      7        1050            910   \n",
       "4      8080     1.0           0     0  ...      8        1680              0   \n",
       "\n",
       "   yr_built  yr_renovated  zipcode      lat     long  sqft_living15  \\\n",
       "0      1955             0    98178  47.5112 -122.257           1340   \n",
       "1      1951          1991    98125  47.7210 -122.319           1690   \n",
       "2      1933             0    98028  47.7379 -122.233           2720   \n",
       "3      1965             0    98136  47.5208 -122.393           1360   \n",
       "4      1987             0    98074  47.6168 -122.045           1800   \n",
       "\n",
       "   sqft_lot15  \n",
       "0        5650  \n",
       "1        7639  \n",
       "2        8062  \n",
       "3        5000  \n",
       "4        7503  \n",
       "\n",
       "[5 rows x 21 columns]"
      ]
     },
     "execution_count": 214,
     "metadata": {},
     "output_type": "execute_result"
    }
   ],
   "source": [
    "data.head()\n",
    "#notice the varible bedrooms and grade are ordinal variable "
   ]
  },
  {
   "cell_type": "code",
   "execution_count": 215,
   "id": "negative-boundary",
   "metadata": {},
   "outputs": [
    {
     "name": "stdout",
     "output_type": "stream",
     "text": [
      "<class 'pandas.core.frame.DataFrame'>\n",
      "RangeIndex: 21613 entries, 0 to 21612\n",
      "Data columns (total 21 columns):\n",
      " #   Column         Non-Null Count  Dtype  \n",
      "---  ------         --------------  -----  \n",
      " 0   id             21613 non-null  int64  \n",
      " 1   date           21613 non-null  object \n",
      " 2   price          21613 non-null  float64\n",
      " 3   bedrooms       21613 non-null  int64  \n",
      " 4   bathrooms      21613 non-null  float64\n",
      " 5   sqft_living    21613 non-null  int64  \n",
      " 6   sqft_lot       21613 non-null  int64  \n",
      " 7   floors         21613 non-null  float64\n",
      " 8   waterfront     21613 non-null  int64  \n",
      " 9   view           21613 non-null  int64  \n",
      " 10  condition      21613 non-null  int64  \n",
      " 11  grade          21613 non-null  int64  \n",
      " 12  sqft_above     21613 non-null  int64  \n",
      " 13  sqft_basement  21613 non-null  int64  \n",
      " 14  yr_built       21613 non-null  int64  \n",
      " 15  yr_renovated   21613 non-null  int64  \n",
      " 16  zipcode        21613 non-null  int64  \n",
      " 17  lat            21613 non-null  float64\n",
      " 18  long           21613 non-null  float64\n",
      " 19  sqft_living15  21613 non-null  int64  \n",
      " 20  sqft_lot15     21613 non-null  int64  \n",
      "dtypes: float64(5), int64(15), object(1)\n",
      "memory usage: 3.5+ MB\n"
     ]
    }
   ],
   "source": [
    "data.info()"
   ]
  },
  {
   "cell_type": "markdown",
   "id": "meaningful-rings",
   "metadata": {},
   "source": [
    " lets drop the 'id' column. Not important for us"
   ]
  },
  {
   "cell_type": "code",
   "execution_count": 216,
   "id": "substantial-disorder",
   "metadata": {},
   "outputs": [],
   "source": [
    "data.drop('id',inplace=True,axis=1)\n"
   ]
  },
  {
   "cell_type": "markdown",
   "id": "chronic-threat",
   "metadata": {},
   "source": [
    "there should be interger in columns 'bathrooms' and 'floors' not float numbers. Let's turn them on integers"
   ]
  },
  {
   "cell_type": "code",
   "execution_count": 217,
   "id": "racial-pocket",
   "metadata": {},
   "outputs": [],
   "source": [
    "data['bathrooms'] = np.round(data['bathrooms'])\n",
    "data['floors'] = np.round(data['floors'])"
   ]
  },
  {
   "cell_type": "code",
   "execution_count": 218,
   "id": "sufficient-spray",
   "metadata": {},
   "outputs": [
    {
     "data": {
      "text/plain": [
       "date             0\n",
       "price            0\n",
       "bedrooms         0\n",
       "bathrooms        0\n",
       "sqft_living      0\n",
       "sqft_lot         0\n",
       "floors           0\n",
       "waterfront       0\n",
       "view             0\n",
       "condition        0\n",
       "grade            0\n",
       "sqft_above       0\n",
       "sqft_basement    0\n",
       "yr_built         0\n",
       "yr_renovated     0\n",
       "zipcode          0\n",
       "lat              0\n",
       "long             0\n",
       "sqft_living15    0\n",
       "sqft_lot15       0\n",
       "dtype: int64"
      ]
     },
     "execution_count": 218,
     "metadata": {},
     "output_type": "execute_result"
    }
   ],
   "source": [
    "data.isnull().sum()"
   ]
  },
  {
   "cell_type": "markdown",
   "id": "increased-video",
   "metadata": {},
   "source": [
    "## Engineer Datetime Features\n"
   ]
  },
  {
   "cell_type": "markdown",
   "id": "distinguished-active",
   "metadata": {},
   "source": [
    "Out Date is of type object and our unsupervised Machine Learning algorithms only work with numeric variables so we've to convert date object into numbers \n",
    "[NOTE]Decision trees, Regression trees, and ensemble-based on these methods can handle categorical data"
   ]
  },
  {
   "cell_type": "code",
   "execution_count": 219,
   "id": "composite-township",
   "metadata": {},
   "outputs": [],
   "source": [
    "data['date'] = pd.to_datetime(data['date'])"
   ]
  },
  {
   "cell_type": "markdown",
   "id": "refined-reggae",
   "metadata": {},
   "source": [
    "By converting the strings into datetimes, this exposes all the pandas dt properties."
   ]
  },
  {
   "cell_type": "markdown",
   "id": "artificial-newport",
   "metadata": {},
   "source": [
    "![title](date.png)\n"
   ]
  },
  {
   "cell_type": "code",
   "execution_count": 220,
   "id": "objective-laptop",
   "metadata": {},
   "outputs": [
    {
     "name": "stderr",
     "output_type": "stream",
     "text": [
      "C:\\Users\\Syed Muhammmad Hamza\\anaconda3\\envs\\PY37\\lib\\site-packages\\ipykernel_launcher.py:3: FutureWarning: Series.dt.weekofyear and Series.dt.week have been deprecated.  Please use Series.dt.isocalendar().week instead.\n",
      "  This is separate from the ipykernel package so we can avoid doing imports until\n"
     ]
    }
   ],
   "source": [
    "data['year'] = data['date'].dt.year\n",
    "data['month'] = data['date'].dt.month\n",
    "data['week'] = data['date'].dt.week\n",
    "data['day'] = data['date'].dt.day\n",
    "#data['hour'] = data['date'].dt.hour\n",
    "#data['minute'] = data['date'].dt.minute\n",
    "data['dayofweek'] = data['date'].dt.dayofweek"
   ]
  },
  {
   "cell_type": "markdown",
   "id": "individual-wilderness",
   "metadata": {},
   "source": [
    "I would start by graphing the time variable vs other variables and looking for trends.\n",
    "\n"
   ]
  },
  {
   "cell_type": "code",
   "execution_count": 221,
   "id": "younger-jesus",
   "metadata": {},
   "outputs": [
    {
     "data": {
      "image/png": "[encoded data removed]",
      "text/plain": [
       "<Figure size 432x288 with 1 Axes>"
      ]
     },
     "metadata": {
      "needs_background": "light"
     },
     "output_type": "display_data"
    }
   ],
   "source": [
    "plt.plot(data['date'],data['price'],'ro',label='house prices')\n",
    "plt.xlabel('Time')\n",
    "plt.ylabel('price')\n",
    "plt.title('time')\n",
    "plt.grid(True)\n",
    "plt.legend(loc='upper left');"
   ]
  },
  {
   "cell_type": "markdown",
   "id": "perceived-semester",
   "metadata": {},
   "source": [
    "there's no seasonality, Periodic pattern, or trend in daily data that means we don't need any new feature to catch any seasonality, Periodic pattern, or trend but let's resample our data on different time scales for further analysis and drop some feaure that we generated from date"
   ]
  },
  {
   "cell_type": "code",
   "execution_count": 222,
   "id": "interesting-kuwait",
   "metadata": {},
   "outputs": [],
   "source": [
    "data=data.drop(['date'],axis='columns')\n"
   ]
  },
  {
   "cell_type": "code",
   "execution_count": 96,
   "id": "welsh-presentation",
   "metadata": {},
   "outputs": [
    {
     "data": {
      "image/png": "[encoded data removed]",
      "text/plain": [
       "<Figure size 432x288 with 1 Axes>"
      ]
     },
     "metadata": {
      "needs_background": "light"
     },
     "output_type": "display_data"
    }
   ],
   "source": [
    "plt.plot(data['day'],data['price'],'ro',label='house prices')\n",
    "plt.xlabel('Time')\n",
    "plt.ylabel('price')\n",
    "plt.title('DAILY')\n",
    "plt.grid(True)\n",
    "plt.legend(loc='upper left');"
   ]
  },
  {
   "cell_type": "code",
   "execution_count": 223,
   "id": "comprehensive-receiver",
   "metadata": {},
   "outputs": [],
   "source": [
    "data=data.drop(['day'],axis='columns')\n"
   ]
  },
  {
   "cell_type": "code",
   "execution_count": 98,
   "id": "about-eight",
   "metadata": {},
   "outputs": [
    {
     "data": {
      "image/png": "[encoded data removed]",
      "text/plain": [
       "<Figure size 432x288 with 1 Axes>"
      ]
     },
     "metadata": {
      "needs_background": "light"
     },
     "output_type": "display_data"
    }
   ],
   "source": [
    "plt.plot(data['week'],data['price'],'ro',label='house prices')\n",
    "plt.xlabel('Time')\n",
    "plt.ylabel('price')\n",
    "plt.title('WEEKLY')\n",
    "plt.grid(True)\n",
    "plt.legend(loc='upper left');"
   ]
  },
  {
   "cell_type": "markdown",
   "id": "dated-shade",
   "metadata": {},
   "source": [
    "there's no seasonality, Periodic pattern, or trend in weekly data lets drop this feaure "
   ]
  },
  {
   "cell_type": "code",
   "execution_count": 224,
   "id": "acute-matrix",
   "metadata": {},
   "outputs": [],
   "source": [
    "data=data.drop(['week'],axis='columns')\n"
   ]
  },
  {
   "cell_type": "code",
   "execution_count": 225,
   "id": "median-accounting",
   "metadata": {},
   "outputs": [
    {
     "data": {
      "image/png": "[encoded data removed]",
      "text/plain": [
       "<Figure size 432x288 with 1 Axes>"
      ]
     },
     "metadata": {
      "needs_background": "light"
     },
     "output_type": "display_data"
    }
   ],
   "source": [
    "plt.plot(data['year'],data['price'],'ro',label='house prices')\n",
    "plt.xlabel('Time')\n",
    "plt.ylabel('price')\n",
    "plt.title('YEARLY')\n",
    "plt.grid(True)\n",
    "plt.legend(loc='upper left');"
   ]
  },
  {
   "cell_type": "markdown",
   "id": "adult-hierarchy",
   "metadata": {},
   "source": [
    "usually you will keep year feature even tho there is not much infomation"
   ]
  },
  {
   "cell_type": "code",
   "execution_count": 226,
   "id": "olive-concord",
   "metadata": {},
   "outputs": [
    {
     "data": {
      "image/png": "[encoded data removed]",
      "text/plain": [
       "<Figure size 432x288 with 1 Axes>"
      ]
     },
     "metadata": {
      "needs_background": "light"
     },
     "output_type": "display_data"
    }
   ],
   "source": [
    "plt.plot(data['dayofweek'],data['price'],'ro',label='house prices')\n",
    "plt.xlabel('Time')\n",
    "plt.ylabel('price')\n",
    "plt.title('dayofweek')\n",
    "plt.grid(True)\n",
    "plt.legend(loc='upper left');"
   ]
  },
  {
   "cell_type": "code",
   "execution_count": 227,
   "id": "spoken-activity",
   "metadata": {},
   "outputs": [
    {
     "data": {
      "image/png": "[encoded data removed]",
      "text/plain": [
       "<Figure size 432x288 with 1 Axes>"
      ]
     },
     "metadata": {
      "needs_background": "light"
     },
     "output_type": "display_data"
    }
   ],
   "source": [
    "plt.plot(data['month'],data['price'],'ro',label='house prices')\n",
    "plt.xlabel('Time')\n",
    "plt.ylabel('price')\n",
    "plt.title('MONTHLY')\n",
    "plt.grid(True)\n",
    "plt.legend(loc='upper left');"
   ]
  },
  {
   "cell_type": "markdown",
   "id": "critical-training",
   "metadata": {},
   "source": [
    "By doing TimeSeries analysis we came to conclusion there is no periodic daily,weekly.monthly or annual trend in our data. So you would not want to encode any more time variables"
   ]
  },
  {
   "cell_type": "code",
   "execution_count": 228,
   "id": "blind-fiction",
   "metadata": {},
   "outputs": [
    {
     "data": {
      "text/plain": [
       "<AxesSubplot:xlabel='year', ylabel='price'>"
      ]
     },
     "execution_count": 228,
     "metadata": {},
     "output_type": "execute_result"
    },
    {
     "data": {
      "image/png": "[encoded data removed]",
      "text/plain": [
       "<Figure size 432x288 with 1 Axes>"
      ]
     },
     "metadata": {
      "needs_background": "light"
     },
     "output_type": "display_data"
    }
   ],
   "source": [
    "\n",
    "sns.lineplot(x='year',y='price',data=data)"
   ]
  },
  {
   "cell_type": "markdown",
   "id": "cubic-hammer",
   "metadata": {},
   "source": [
    "A linear analysis showing us the increase of the price along the years that's kind of what you would expect from correct data"
   ]
  },
  {
   "cell_type": "code",
   "execution_count": 104,
   "id": "innocent-indonesian",
   "metadata": {},
   "outputs": [
    {
     "data": {
      "text/plain": [
       "<AxesSubplot:xlabel='grade', ylabel='price'>"
      ]
     },
     "execution_count": 104,
     "metadata": {},
     "output_type": "execute_result"
    },
    {
     "data": {
      "image/png": "[encoded data removed]",
      "text/plain": [
       "<Figure size 432x288 with 1 Axes>"
      ]
     },
     "metadata": {
      "needs_background": "light"
     },
     "output_type": "display_data"
    }
   ],
   "source": [
    "sns.lineplot(x='grade',y='price',data=data)"
   ]
  },
  {
   "cell_type": "markdown",
   "id": "cultural-selection",
   "metadata": {},
   "source": [
    "the higher the grade the higher the price and our this graph confirms it aswell"
   ]
  },
  {
   "cell_type": "code",
   "execution_count": 105,
   "id": "central-fleece",
   "metadata": {},
   "outputs": [
    {
     "data": {
      "text/plain": [
       "<AxesSubplot:xlabel='bedrooms', ylabel='price'>"
      ]
     },
     "execution_count": 105,
     "metadata": {},
     "output_type": "execute_result"
    },
    {
     "data": {
      "image/png": "[encoded data removed]",
      "text/plain": [
       "<Figure size 432x288 with 1 Axes>"
      ]
     },
     "metadata": {
      "needs_background": "light"
     },
     "output_type": "display_data"
    }
   ],
   "source": [
    "sns.lineplot(x='bedrooms',y='price',data=data)"
   ]
  },
  {
   "cell_type": "markdown",
   "id": "statutory-launch",
   "metadata": {},
   "source": [
    "this plot is an interesting one cause I was expecting linear growth in prices with an increase in the number of bedrooms and this graph shows a sharp decline in price after 8 bedrooms which indicates bedrooms alone are not a good indicator of price and later we will see there is a 0.5 correlation between bedrooms and price"
   ]
  },
  {
   "cell_type": "code",
   "execution_count": 106,
   "id": "abroad-eclipse",
   "metadata": {},
   "outputs": [
    {
     "data": {
      "text/plain": [
       "<AxesSubplot:xlabel='bathrooms', ylabel='price'>"
      ]
     },
     "execution_count": 106,
     "metadata": {},
     "output_type": "execute_result"
    },
    {
     "data": {
      "image/png": "[encoded data removed]",
      "text/plain": [
       "<Figure size 432x288 with 1 Axes>"
      ]
     },
     "metadata": {
      "needs_background": "light"
     },
     "output_type": "display_data"
    }
   ],
   "source": [
    "sns.lineplot(x='bathrooms',y='price',data=data)"
   ]
  },
  {
   "cell_type": "markdown",
   "id": "violent-shame",
   "metadata": {},
   "source": [
    "this plot indicates number of bathrooms is a  better indicator of price as compare to bedrooms tho there is still high varince from bathrooms value 4 to 8"
   ]
  },
  {
   "cell_type": "code",
   "execution_count": 107,
   "id": "antique-candle",
   "metadata": {},
   "outputs": [
    {
     "data": {
      "text/plain": [
       "<AxesSubplot:xlabel='bathrooms', ylabel='price'>"
      ]
     },
     "execution_count": 107,
     "metadata": {},
     "output_type": "execute_result"
    },
    {
     "data": {
      "image/png": "[encoded data removed]",
      "text/plain": [
       "<Figure size 432x288 with 1 Axes>"
      ]
     },
     "metadata": {
      "needs_background": "light"
     },
     "output_type": "display_data"
    }
   ],
   "source": [
    "sns.boxplot(x='bathrooms',y='price',data=data)"
   ]
  },
  {
   "cell_type": "code",
   "execution_count": 108,
   "id": "welcome-assignment",
   "metadata": {},
   "outputs": [
    {
     "data": {
      "text/plain": [
       "<AxesSubplot:xlabel='grade', ylabel='price'>"
      ]
     },
     "execution_count": 108,
     "metadata": {},
     "output_type": "execute_result"
    },
    {
     "data": {
      "image/png": "[encoded data removed]",
      "text/plain": [
       "<Figure size 432x288 with 1 Axes>"
      ]
     },
     "metadata": {
      "needs_background": "light"
     },
     "output_type": "display_data"
    }
   ],
   "source": [
    "\n",
    "sns.boxplot(x='grade',y='price',data=data,showfliers=False)"
   ]
  },
  {
   "cell_type": "code",
   "execution_count": 110,
   "id": "fallen-carrier",
   "metadata": {},
   "outputs": [],
   "source": [
    "#df.corr()\n",
    "'''compute the standard\n",
    "correlation coefficient (also called Pearson’s r) between every pair of\n",
    "attributes using the corr() method:'''\n",
    "corr_matrix=data.corr()"
   ]
  },
  {
   "cell_type": "code",
   "execution_count": 111,
   "id": "finished-discipline",
   "metadata": {},
   "outputs": [
    {
     "data": {
      "text/html": [
       "<div>\n",
       "<style scoped>\n",
       "    .dataframe tbody tr th:only-of-type {\n",
       "        vertical-align: middle;\n",
       "    }\n",
       "\n",
       "    .dataframe tbody tr th {\n",
       "        vertical-align: top;\n",
       "    }\n",
       "\n",
       "    .dataframe thead th {\n",
       "        text-align: right;\n",
       "    }\n",
       "</style>\n",
       "<table border=\"1\" class=\"dataframe\">\n",
       "  <thead>\n",
       "    <tr style=\"text-align: right;\">\n",
       "      <th></th>\n",
       "      <th>price</th>\n",
       "      <th>bedrooms</th>\n",
       "      <th>bathrooms</th>\n",
       "      <th>sqft_living</th>\n",
       "      <th>sqft_lot</th>\n",
       "      <th>floors</th>\n",
       "      <th>waterfront</th>\n",
       "      <th>view</th>\n",
       "      <th>condition</th>\n",
       "      <th>grade</th>\n",
       "      <th>...</th>\n",
       "      <th>yr_built</th>\n",
       "      <th>yr_renovated</th>\n",
       "      <th>zipcode</th>\n",
       "      <th>lat</th>\n",
       "      <th>long</th>\n",
       "      <th>sqft_living15</th>\n",
       "      <th>sqft_lot15</th>\n",
       "      <th>year</th>\n",
       "      <th>month</th>\n",
       "      <th>dayofweek</th>\n",
       "    </tr>\n",
       "  </thead>\n",
       "  <tbody>\n",
       "    <tr>\n",
       "      <th>price</th>\n",
       "      <td>1.000000</td>\n",
       "      <td>0.308350</td>\n",
       "      <td>0.518912</td>\n",
       "      <td>0.702035</td>\n",
       "      <td>0.089661</td>\n",
       "      <td>0.244906</td>\n",
       "      <td>0.266369</td>\n",
       "      <td>0.397293</td>\n",
       "      <td>0.036362</td>\n",
       "      <td>0.667434</td>\n",
       "      <td>...</td>\n",
       "      <td>0.054012</td>\n",
       "      <td>0.126434</td>\n",
       "      <td>-0.053203</td>\n",
       "      <td>0.307003</td>\n",
       "      <td>0.021626</td>\n",
       "      <td>0.585379</td>\n",
       "      <td>0.082447</td>\n",
       "      <td>0.003576</td>\n",
       "      <td>-0.010081</td>\n",
       "      <td>-0.001695</td>\n",
       "    </tr>\n",
       "    <tr>\n",
       "      <th>bedrooms</th>\n",
       "      <td>0.308350</td>\n",
       "      <td>1.000000</td>\n",
       "      <td>0.489609</td>\n",
       "      <td>0.576671</td>\n",
       "      <td>0.031703</td>\n",
       "      <td>0.177778</td>\n",
       "      <td>-0.006582</td>\n",
       "      <td>0.079532</td>\n",
       "      <td>0.028472</td>\n",
       "      <td>0.356967</td>\n",
       "      <td>...</td>\n",
       "      <td>0.154178</td>\n",
       "      <td>0.018841</td>\n",
       "      <td>-0.152668</td>\n",
       "      <td>-0.008931</td>\n",
       "      <td>0.129473</td>\n",
       "      <td>0.391638</td>\n",
       "      <td>0.029244</td>\n",
       "      <td>-0.009838</td>\n",
       "      <td>-0.001533</td>\n",
       "      <td>0.009843</td>\n",
       "    </tr>\n",
       "    <tr>\n",
       "      <th>bathrooms</th>\n",
       "      <td>0.518912</td>\n",
       "      <td>0.489609</td>\n",
       "      <td>1.000000</td>\n",
       "      <td>0.701784</td>\n",
       "      <td>0.089988</td>\n",
       "      <td>0.326466</td>\n",
       "      <td>0.065428</td>\n",
       "      <td>0.202647</td>\n",
       "      <td>-0.066685</td>\n",
       "      <td>0.591269</td>\n",
       "      <td>...</td>\n",
       "      <td>0.377433</td>\n",
       "      <td>0.069322</td>\n",
       "      <td>-0.144088</td>\n",
       "      <td>0.049235</td>\n",
       "      <td>0.149157</td>\n",
       "      <td>0.497484</td>\n",
       "      <td>0.086952</td>\n",
       "      <td>-0.024469</td>\n",
       "      <td>0.009359</td>\n",
       "      <td>0.005006</td>\n",
       "    </tr>\n",
       "    <tr>\n",
       "      <th>sqft_living</th>\n",
       "      <td>0.702035</td>\n",
       "      <td>0.576671</td>\n",
       "      <td>0.701784</td>\n",
       "      <td>1.000000</td>\n",
       "      <td>0.172826</td>\n",
       "      <td>0.321987</td>\n",
       "      <td>0.103818</td>\n",
       "      <td>0.284611</td>\n",
       "      <td>-0.058753</td>\n",
       "      <td>0.762704</td>\n",
       "      <td>...</td>\n",
       "      <td>0.318049</td>\n",
       "      <td>0.055363</td>\n",
       "      <td>-0.199430</td>\n",
       "      <td>0.052529</td>\n",
       "      <td>0.240223</td>\n",
       "      <td>0.756420</td>\n",
       "      <td>0.183286</td>\n",
       "      <td>-0.029038</td>\n",
       "      <td>0.011810</td>\n",
       "      <td>0.005152</td>\n",
       "    </tr>\n",
       "    <tr>\n",
       "      <th>sqft_lot</th>\n",
       "      <td>0.089661</td>\n",
       "      <td>0.031703</td>\n",
       "      <td>0.089988</td>\n",
       "      <td>0.172826</td>\n",
       "      <td>1.000000</td>\n",
       "      <td>-0.001947</td>\n",
       "      <td>0.021604</td>\n",
       "      <td>0.074710</td>\n",
       "      <td>-0.008958</td>\n",
       "      <td>0.113621</td>\n",
       "      <td>...</td>\n",
       "      <td>0.053080</td>\n",
       "      <td>0.007644</td>\n",
       "      <td>-0.129574</td>\n",
       "      <td>-0.085683</td>\n",
       "      <td>0.229521</td>\n",
       "      <td>0.144608</td>\n",
       "      <td>0.718557</td>\n",
       "      <td>0.005468</td>\n",
       "      <td>-0.002369</td>\n",
       "      <td>-0.002758</td>\n",
       "    </tr>\n",
       "    <tr>\n",
       "      <th>floors</th>\n",
       "      <td>0.244906</td>\n",
       "      <td>0.177778</td>\n",
       "      <td>0.326466</td>\n",
       "      <td>0.321987</td>\n",
       "      <td>-0.001947</td>\n",
       "      <td>1.000000</td>\n",
       "      <td>0.025839</td>\n",
       "      <td>0.027971</td>\n",
       "      <td>-0.223259</td>\n",
       "      <td>0.407675</td>\n",
       "      <td>...</td>\n",
       "      <td>0.381396</td>\n",
       "      <td>0.015424</td>\n",
       "      <td>-0.022506</td>\n",
       "      <td>0.064603</td>\n",
       "      <td>0.088845</td>\n",
       "      <td>0.242730</td>\n",
       "      <td>-0.010895</td>\n",
       "      <td>-0.022473</td>\n",
       "      <td>0.013963</td>\n",
       "      <td>0.004277</td>\n",
       "    </tr>\n",
       "    <tr>\n",
       "      <th>waterfront</th>\n",
       "      <td>0.266369</td>\n",
       "      <td>-0.006582</td>\n",
       "      <td>0.065428</td>\n",
       "      <td>0.103818</td>\n",
       "      <td>0.021604</td>\n",
       "      <td>0.025839</td>\n",
       "      <td>1.000000</td>\n",
       "      <td>0.401857</td>\n",
       "      <td>0.016653</td>\n",
       "      <td>0.082775</td>\n",
       "      <td>...</td>\n",
       "      <td>-0.026161</td>\n",
       "      <td>0.092885</td>\n",
       "      <td>0.030285</td>\n",
       "      <td>-0.014274</td>\n",
       "      <td>-0.041910</td>\n",
       "      <td>0.086463</td>\n",
       "      <td>0.030703</td>\n",
       "      <td>-0.004165</td>\n",
       "      <td>0.008132</td>\n",
       "      <td>-0.004668</td>\n",
       "    </tr>\n",
       "    <tr>\n",
       "      <th>view</th>\n",
       "      <td>0.397293</td>\n",
       "      <td>0.079532</td>\n",
       "      <td>0.202647</td>\n",
       "      <td>0.284611</td>\n",
       "      <td>0.074710</td>\n",
       "      <td>0.027971</td>\n",
       "      <td>0.401857</td>\n",
       "      <td>1.000000</td>\n",
       "      <td>0.045990</td>\n",
       "      <td>0.251321</td>\n",
       "      <td>...</td>\n",
       "      <td>-0.053440</td>\n",
       "      <td>0.103917</td>\n",
       "      <td>0.084827</td>\n",
       "      <td>0.006157</td>\n",
       "      <td>-0.078400</td>\n",
       "      <td>0.280439</td>\n",
       "      <td>0.072575</td>\n",
       "      <td>0.001364</td>\n",
       "      <td>-0.005638</td>\n",
       "      <td>0.006186</td>\n",
       "    </tr>\n",
       "    <tr>\n",
       "      <th>condition</th>\n",
       "      <td>0.036362</td>\n",
       "      <td>0.028472</td>\n",
       "      <td>-0.066685</td>\n",
       "      <td>-0.058753</td>\n",
       "      <td>-0.008958</td>\n",
       "      <td>-0.223259</td>\n",
       "      <td>0.016653</td>\n",
       "      <td>0.045990</td>\n",
       "      <td>1.000000</td>\n",
       "      <td>-0.144674</td>\n",
       "      <td>...</td>\n",
       "      <td>-0.361417</td>\n",
       "      <td>-0.060618</td>\n",
       "      <td>0.003026</td>\n",
       "      <td>-0.014941</td>\n",
       "      <td>-0.106500</td>\n",
       "      <td>-0.092824</td>\n",
       "      <td>-0.003406</td>\n",
       "      <td>-0.045589</td>\n",
       "      <td>0.021978</td>\n",
       "      <td>0.007011</td>\n",
       "    </tr>\n",
       "    <tr>\n",
       "      <th>grade</th>\n",
       "      <td>0.667434</td>\n",
       "      <td>0.356967</td>\n",
       "      <td>0.591269</td>\n",
       "      <td>0.762704</td>\n",
       "      <td>0.113621</td>\n",
       "      <td>0.407675</td>\n",
       "      <td>0.082775</td>\n",
       "      <td>0.251321</td>\n",
       "      <td>-0.144674</td>\n",
       "      <td>1.000000</td>\n",
       "      <td>...</td>\n",
       "      <td>0.446963</td>\n",
       "      <td>0.014414</td>\n",
       "      <td>-0.184862</td>\n",
       "      <td>0.114084</td>\n",
       "      <td>0.198372</td>\n",
       "      <td>0.713202</td>\n",
       "      <td>0.119248</td>\n",
       "      <td>-0.030387</td>\n",
       "      <td>0.008376</td>\n",
       "      <td>0.002092</td>\n",
       "    </tr>\n",
       "    <tr>\n",
       "      <th>sqft_above</th>\n",
       "      <td>0.605567</td>\n",
       "      <td>0.477600</td>\n",
       "      <td>0.599360</td>\n",
       "      <td>0.876597</td>\n",
       "      <td>0.183512</td>\n",
       "      <td>0.488411</td>\n",
       "      <td>0.072075</td>\n",
       "      <td>0.167649</td>\n",
       "      <td>-0.158214</td>\n",
       "      <td>0.755923</td>\n",
       "      <td>...</td>\n",
       "      <td>0.423898</td>\n",
       "      <td>0.023285</td>\n",
       "      <td>-0.261190</td>\n",
       "      <td>-0.000816</td>\n",
       "      <td>0.343803</td>\n",
       "      <td>0.731870</td>\n",
       "      <td>0.194050</td>\n",
       "      <td>-0.023823</td>\n",
       "      <td>0.009872</td>\n",
       "      <td>0.006079</td>\n",
       "    </tr>\n",
       "    <tr>\n",
       "      <th>sqft_basement</th>\n",
       "      <td>0.323816</td>\n",
       "      <td>0.303093</td>\n",
       "      <td>0.334909</td>\n",
       "      <td>0.435043</td>\n",
       "      <td>0.015286</td>\n",
       "      <td>-0.245659</td>\n",
       "      <td>0.080588</td>\n",
       "      <td>0.276947</td>\n",
       "      <td>0.174105</td>\n",
       "      <td>0.168392</td>\n",
       "      <td>...</td>\n",
       "      <td>-0.133124</td>\n",
       "      <td>0.071323</td>\n",
       "      <td>0.074845</td>\n",
       "      <td>0.110538</td>\n",
       "      <td>-0.144765</td>\n",
       "      <td>0.200355</td>\n",
       "      <td>0.017276</td>\n",
       "      <td>-0.015687</td>\n",
       "      <td>0.006035</td>\n",
       "      <td>-0.000683</td>\n",
       "    </tr>\n",
       "    <tr>\n",
       "      <th>yr_built</th>\n",
       "      <td>0.054012</td>\n",
       "      <td>0.154178</td>\n",
       "      <td>0.377433</td>\n",
       "      <td>0.318049</td>\n",
       "      <td>0.053080</td>\n",
       "      <td>0.381396</td>\n",
       "      <td>-0.026161</td>\n",
       "      <td>-0.053440</td>\n",
       "      <td>-0.361417</td>\n",
       "      <td>0.446963</td>\n",
       "      <td>...</td>\n",
       "      <td>1.000000</td>\n",
       "      <td>-0.224874</td>\n",
       "      <td>-0.346869</td>\n",
       "      <td>-0.148122</td>\n",
       "      <td>0.409356</td>\n",
       "      <td>0.326229</td>\n",
       "      <td>0.070958</td>\n",
       "      <td>0.003507</td>\n",
       "      <td>-0.006226</td>\n",
       "      <td>0.007311</td>\n",
       "    </tr>\n",
       "    <tr>\n",
       "      <th>yr_renovated</th>\n",
       "      <td>0.126434</td>\n",
       "      <td>0.018841</td>\n",
       "      <td>0.069322</td>\n",
       "      <td>0.055363</td>\n",
       "      <td>0.007644</td>\n",
       "      <td>0.015424</td>\n",
       "      <td>0.092885</td>\n",
       "      <td>0.103917</td>\n",
       "      <td>-0.060618</td>\n",
       "      <td>0.014414</td>\n",
       "      <td>...</td>\n",
       "      <td>-0.224874</td>\n",
       "      <td>1.000000</td>\n",
       "      <td>0.064357</td>\n",
       "      <td>0.029398</td>\n",
       "      <td>-0.068372</td>\n",
       "      <td>-0.002673</td>\n",
       "      <td>0.007854</td>\n",
       "      <td>-0.023707</td>\n",
       "      <td>0.012827</td>\n",
       "      <td>-0.000130</td>\n",
       "    </tr>\n",
       "    <tr>\n",
       "      <th>zipcode</th>\n",
       "      <td>-0.053203</td>\n",
       "      <td>-0.152668</td>\n",
       "      <td>-0.144088</td>\n",
       "      <td>-0.199430</td>\n",
       "      <td>-0.129574</td>\n",
       "      <td>-0.022506</td>\n",
       "      <td>0.030285</td>\n",
       "      <td>0.084827</td>\n",
       "      <td>0.003026</td>\n",
       "      <td>-0.184862</td>\n",
       "      <td>...</td>\n",
       "      <td>-0.346869</td>\n",
       "      <td>0.064357</td>\n",
       "      <td>1.000000</td>\n",
       "      <td>0.267048</td>\n",
       "      <td>-0.564072</td>\n",
       "      <td>-0.279033</td>\n",
       "      <td>-0.147221</td>\n",
       "      <td>0.001189</td>\n",
       "      <td>-0.000171</td>\n",
       "      <td>0.003339</td>\n",
       "    </tr>\n",
       "    <tr>\n",
       "      <th>lat</th>\n",
       "      <td>0.307003</td>\n",
       "      <td>-0.008931</td>\n",
       "      <td>0.049235</td>\n",
       "      <td>0.052529</td>\n",
       "      <td>-0.085683</td>\n",
       "      <td>0.064603</td>\n",
       "      <td>-0.014274</td>\n",
       "      <td>0.006157</td>\n",
       "      <td>-0.014941</td>\n",
       "      <td>0.114084</td>\n",
       "      <td>...</td>\n",
       "      <td>-0.148122</td>\n",
       "      <td>0.029398</td>\n",
       "      <td>0.267048</td>\n",
       "      <td>1.000000</td>\n",
       "      <td>-0.135512</td>\n",
       "      <td>0.048858</td>\n",
       "      <td>-0.086419</td>\n",
       "      <td>-0.029212</td>\n",
       "      <td>0.014961</td>\n",
       "      <td>-0.016213</td>\n",
       "    </tr>\n",
       "    <tr>\n",
       "      <th>long</th>\n",
       "      <td>0.021626</td>\n",
       "      <td>0.129473</td>\n",
       "      <td>0.149157</td>\n",
       "      <td>0.240223</td>\n",
       "      <td>0.229521</td>\n",
       "      <td>0.088845</td>\n",
       "      <td>-0.041910</td>\n",
       "      <td>-0.078400</td>\n",
       "      <td>-0.106500</td>\n",
       "      <td>0.198372</td>\n",
       "      <td>...</td>\n",
       "      <td>0.409356</td>\n",
       "      <td>-0.068372</td>\n",
       "      <td>-0.564072</td>\n",
       "      <td>-0.135512</td>\n",
       "      <td>1.000000</td>\n",
       "      <td>0.334605</td>\n",
       "      <td>0.254451</td>\n",
       "      <td>0.000270</td>\n",
       "      <td>-0.008134</td>\n",
       "      <td>0.003930</td>\n",
       "    </tr>\n",
       "    <tr>\n",
       "      <th>sqft_living15</th>\n",
       "      <td>0.585379</td>\n",
       "      <td>0.391638</td>\n",
       "      <td>0.497484</td>\n",
       "      <td>0.756420</td>\n",
       "      <td>0.144608</td>\n",
       "      <td>0.242730</td>\n",
       "      <td>0.086463</td>\n",
       "      <td>0.280439</td>\n",
       "      <td>-0.092824</td>\n",
       "      <td>0.713202</td>\n",
       "      <td>...</td>\n",
       "      <td>0.326229</td>\n",
       "      <td>-0.002673</td>\n",
       "      <td>-0.279033</td>\n",
       "      <td>0.048858</td>\n",
       "      <td>0.334605</td>\n",
       "      <td>1.000000</td>\n",
       "      <td>0.183192</td>\n",
       "      <td>-0.021734</td>\n",
       "      <td>0.002449</td>\n",
       "      <td>0.004286</td>\n",
       "    </tr>\n",
       "    <tr>\n",
       "      <th>sqft_lot15</th>\n",
       "      <td>0.082447</td>\n",
       "      <td>0.029244</td>\n",
       "      <td>0.086952</td>\n",
       "      <td>0.183286</td>\n",
       "      <td>0.718557</td>\n",
       "      <td>-0.010895</td>\n",
       "      <td>0.030703</td>\n",
       "      <td>0.072575</td>\n",
       "      <td>-0.003406</td>\n",
       "      <td>0.119248</td>\n",
       "      <td>...</td>\n",
       "      <td>0.070958</td>\n",
       "      <td>0.007854</td>\n",
       "      <td>-0.147221</td>\n",
       "      <td>-0.086419</td>\n",
       "      <td>0.254451</td>\n",
       "      <td>0.183192</td>\n",
       "      <td>1.000000</td>\n",
       "      <td>-0.000085</td>\n",
       "      <td>0.003546</td>\n",
       "      <td>0.004076</td>\n",
       "    </tr>\n",
       "    <tr>\n",
       "      <th>year</th>\n",
       "      <td>0.003576</td>\n",
       "      <td>-0.009838</td>\n",
       "      <td>-0.024469</td>\n",
       "      <td>-0.029038</td>\n",
       "      <td>0.005468</td>\n",
       "      <td>-0.022473</td>\n",
       "      <td>-0.004165</td>\n",
       "      <td>0.001364</td>\n",
       "      <td>-0.045589</td>\n",
       "      <td>-0.030387</td>\n",
       "      <td>...</td>\n",
       "      <td>0.003507</td>\n",
       "      <td>-0.023707</td>\n",
       "      <td>0.001189</td>\n",
       "      <td>-0.029212</td>\n",
       "      <td>0.000270</td>\n",
       "      <td>-0.021734</td>\n",
       "      <td>-0.000085</td>\n",
       "      <td>1.000000</td>\n",
       "      <td>-0.782389</td>\n",
       "      <td>0.028662</td>\n",
       "    </tr>\n",
       "    <tr>\n",
       "      <th>month</th>\n",
       "      <td>-0.010081</td>\n",
       "      <td>-0.001533</td>\n",
       "      <td>0.009359</td>\n",
       "      <td>0.011810</td>\n",
       "      <td>-0.002369</td>\n",
       "      <td>0.013963</td>\n",
       "      <td>0.008132</td>\n",
       "      <td>-0.005638</td>\n",
       "      <td>0.021978</td>\n",
       "      <td>0.008376</td>\n",
       "      <td>...</td>\n",
       "      <td>-0.006226</td>\n",
       "      <td>0.012827</td>\n",
       "      <td>-0.000171</td>\n",
       "      <td>0.014961</td>\n",
       "      <td>-0.008134</td>\n",
       "      <td>0.002449</td>\n",
       "      <td>0.003546</td>\n",
       "      <td>-0.782389</td>\n",
       "      <td>1.000000</td>\n",
       "      <td>-0.047837</td>\n",
       "    </tr>\n",
       "    <tr>\n",
       "      <th>dayofweek</th>\n",
       "      <td>-0.001695</td>\n",
       "      <td>0.009843</td>\n",
       "      <td>0.005006</td>\n",
       "      <td>0.005152</td>\n",
       "      <td>-0.002758</td>\n",
       "      <td>0.004277</td>\n",
       "      <td>-0.004668</td>\n",
       "      <td>0.006186</td>\n",
       "      <td>0.007011</td>\n",
       "      <td>0.002092</td>\n",
       "      <td>...</td>\n",
       "      <td>0.007311</td>\n",
       "      <td>-0.000130</td>\n",
       "      <td>0.003339</td>\n",
       "      <td>-0.016213</td>\n",
       "      <td>0.003930</td>\n",
       "      <td>0.004286</td>\n",
       "      <td>0.004076</td>\n",
       "      <td>0.028662</td>\n",
       "      <td>-0.047837</td>\n",
       "      <td>1.000000</td>\n",
       "    </tr>\n",
       "  </tbody>\n",
       "</table>\n",
       "<p>22 rows × 22 columns</p>\n",
       "</div>"
      ],
      "text/plain": [
       "                  price  bedrooms  bathrooms  sqft_living  sqft_lot    floors  \\\n",
       "price          1.000000  0.308350   0.518912     0.702035  0.089661  0.244906   \n",
       "bedrooms       0.308350  1.000000   0.489609     0.576671  0.031703  0.177778   \n",
       "bathrooms      0.518912  0.489609   1.000000     0.701784  0.089988  0.326466   \n",
       "sqft_living    0.702035  0.576671   0.701784     1.000000  0.172826  0.321987   \n",
       "sqft_lot       0.089661  0.031703   0.089988     0.172826  1.000000 -0.001947   \n",
       "floors         0.244906  0.177778   0.326466     0.321987 -0.001947  1.000000   \n",
       "waterfront     0.266369 -0.006582   0.065428     0.103818  0.021604  0.025839   \n",
       "view           0.397293  0.079532   0.202647     0.284611  0.074710  0.027971   \n",
       "condition      0.036362  0.028472  -0.066685    -0.058753 -0.008958 -0.223259   \n",
       "grade          0.667434  0.356967   0.591269     0.762704  0.113621  0.407675   \n",
       "sqft_above     0.605567  0.477600   0.599360     0.876597  0.183512  0.488411   \n",
       "sqft_basement  0.323816  0.303093   0.334909     0.435043  0.015286 -0.245659   \n",
       "yr_built       0.054012  0.154178   0.377433     0.318049  0.053080  0.381396   \n",
       "yr_renovated   0.126434  0.018841   0.069322     0.055363  0.007644  0.015424   \n",
       "zipcode       -0.053203 -0.152668  -0.144088    -0.199430 -0.129574 -0.022506   \n",
       "lat            0.307003 -0.008931   0.049235     0.052529 -0.085683  0.064603   \n",
       "long           0.021626  0.129473   0.149157     0.240223  0.229521  0.088845   \n",
       "sqft_living15  0.585379  0.391638   0.497484     0.756420  0.144608  0.242730   \n",
       "sqft_lot15     0.082447  0.029244   0.086952     0.183286  0.718557 -0.010895   \n",
       "year           0.003576 -0.009838  -0.024469    -0.029038  0.005468 -0.022473   \n",
       "month         -0.010081 -0.001533   0.009359     0.011810 -0.002369  0.013963   \n",
       "dayofweek     -0.001695  0.009843   0.005006     0.005152 -0.002758  0.004277   \n",
       "\n",
       "               waterfront      view  condition     grade  ...  yr_built  \\\n",
       "price            0.266369  0.397293   0.036362  0.667434  ...  0.054012   \n",
       "bedrooms        -0.006582  0.079532   0.028472  0.356967  ...  0.154178   \n",
       "bathrooms        0.065428  0.202647  -0.066685  0.591269  ...  0.377433   \n",
       "sqft_living      0.103818  0.284611  -0.058753  0.762704  ...  0.318049   \n",
       "sqft_lot         0.021604  0.074710  -0.008958  0.113621  ...  0.053080   \n",
       "floors           0.025839  0.027971  -0.223259  0.407675  ...  0.381396   \n",
       "waterfront       1.000000  0.401857   0.016653  0.082775  ... -0.026161   \n",
       "view             0.401857  1.000000   0.045990  0.251321  ... -0.053440   \n",
       "condition        0.016653  0.045990   1.000000 -0.144674  ... -0.361417   \n",
       "grade            0.082775  0.251321  -0.144674  1.000000  ...  0.446963   \n",
       "sqft_above       0.072075  0.167649  -0.158214  0.755923  ...  0.423898   \n",
       "sqft_basement    0.080588  0.276947   0.174105  0.168392  ... -0.133124   \n",
       "yr_built        -0.026161 -0.053440  -0.361417  0.446963  ...  1.000000   \n",
       "yr_renovated     0.092885  0.103917  -0.060618  0.014414  ... -0.224874   \n",
       "zipcode          0.030285  0.084827   0.003026 -0.184862  ... -0.346869   \n",
       "lat             -0.014274  0.006157  -0.014941  0.114084  ... -0.148122   \n",
       "long            -0.041910 -0.078400  -0.106500  0.198372  ...  0.409356   \n",
       "sqft_living15    0.086463  0.280439  -0.092824  0.713202  ...  0.326229   \n",
       "sqft_lot15       0.030703  0.072575  -0.003406  0.119248  ...  0.070958   \n",
       "year            -0.004165  0.001364  -0.045589 -0.030387  ...  0.003507   \n",
       "month            0.008132 -0.005638   0.021978  0.008376  ... -0.006226   \n",
       "dayofweek       -0.004668  0.006186   0.007011  0.002092  ...  0.007311   \n",
       "\n",
       "               yr_renovated   zipcode       lat      long  sqft_living15  \\\n",
       "price              0.126434 -0.053203  0.307003  0.021626       0.585379   \n",
       "bedrooms           0.018841 -0.152668 -0.008931  0.129473       0.391638   \n",
       "bathrooms          0.069322 -0.144088  0.049235  0.149157       0.497484   \n",
       "sqft_living        0.055363 -0.199430  0.052529  0.240223       0.756420   \n",
       "sqft_lot           0.007644 -0.129574 -0.085683  0.229521       0.144608   \n",
       "floors             0.015424 -0.022506  0.064603  0.088845       0.242730   \n",
       "waterfront         0.092885  0.030285 -0.014274 -0.041910       0.086463   \n",
       "view               0.103917  0.084827  0.006157 -0.078400       0.280439   \n",
       "condition         -0.060618  0.003026 -0.014941 -0.106500      -0.092824   \n",
       "grade              0.014414 -0.184862  0.114084  0.198372       0.713202   \n",
       "sqft_above         0.023285 -0.261190 -0.000816  0.343803       0.731870   \n",
       "sqft_basement      0.071323  0.074845  0.110538 -0.144765       0.200355   \n",
       "yr_built          -0.224874 -0.346869 -0.148122  0.409356       0.326229   \n",
       "yr_renovated       1.000000  0.064357  0.029398 -0.068372      -0.002673   \n",
       "zipcode            0.064357  1.000000  0.267048 -0.564072      -0.279033   \n",
       "lat                0.029398  0.267048  1.000000 -0.135512       0.048858   \n",
       "long              -0.068372 -0.564072 -0.135512  1.000000       0.334605   \n",
       "sqft_living15     -0.002673 -0.279033  0.048858  0.334605       1.000000   \n",
       "sqft_lot15         0.007854 -0.147221 -0.086419  0.254451       0.183192   \n",
       "year              -0.023707  0.001189 -0.029212  0.000270      -0.021734   \n",
       "month              0.012827 -0.000171  0.014961 -0.008134       0.002449   \n",
       "dayofweek         -0.000130  0.003339 -0.016213  0.003930       0.004286   \n",
       "\n",
       "               sqft_lot15      year     month  dayofweek  \n",
       "price            0.082447  0.003576 -0.010081  -0.001695  \n",
       "bedrooms         0.029244 -0.009838 -0.001533   0.009843  \n",
       "bathrooms        0.086952 -0.024469  0.009359   0.005006  \n",
       "sqft_living      0.183286 -0.029038  0.011810   0.005152  \n",
       "sqft_lot         0.718557  0.005468 -0.002369  -0.002758  \n",
       "floors          -0.010895 -0.022473  0.013963   0.004277  \n",
       "waterfront       0.030703 -0.004165  0.008132  -0.004668  \n",
       "view             0.072575  0.001364 -0.005638   0.006186  \n",
       "condition       -0.003406 -0.045589  0.021978   0.007011  \n",
       "grade            0.119248 -0.030387  0.008376   0.002092  \n",
       "sqft_above       0.194050 -0.023823  0.009872   0.006079  \n",
       "sqft_basement    0.017276 -0.015687  0.006035  -0.000683  \n",
       "yr_built         0.070958  0.003507 -0.006226   0.007311  \n",
       "yr_renovated     0.007854 -0.023707  0.012827  -0.000130  \n",
       "zipcode         -0.147221  0.001189 -0.000171   0.003339  \n",
       "lat             -0.086419 -0.029212  0.014961  -0.016213  \n",
       "long             0.254451  0.000270 -0.008134   0.003930  \n",
       "sqft_living15    0.183192 -0.021734  0.002449   0.004286  \n",
       "sqft_lot15       1.000000 -0.000085  0.003546   0.004076  \n",
       "year            -0.000085  1.000000 -0.782389   0.028662  \n",
       "month            0.003546 -0.782389  1.000000  -0.047837  \n",
       "dayofweek        0.004076  0.028662 -0.047837   1.000000  \n",
       "\n",
       "[22 rows x 22 columns]"
      ]
     },
     "execution_count": 111,
     "metadata": {},
     "output_type": "execute_result"
    }
   ],
   "source": [
    "corr_matrix"
   ]
  },
  {
   "cell_type": "code",
   "execution_count": 112,
   "id": "southwest-clarity",
   "metadata": {},
   "outputs": [
    {
     "data": {
      "text/plain": [
       "price            1.000000\n",
       "bedrooms         0.308350\n",
       "bathrooms        0.518912\n",
       "sqft_living      0.702035\n",
       "sqft_lot         0.089661\n",
       "floors           0.244906\n",
       "waterfront       0.266369\n",
       "view             0.397293\n",
       "condition        0.036362\n",
       "grade            0.667434\n",
       "sqft_above       0.605567\n",
       "sqft_basement    0.323816\n",
       "yr_built         0.054012\n",
       "yr_renovated     0.126434\n",
       "zipcode         -0.053203\n",
       "lat              0.307003\n",
       "long             0.021626\n",
       "sqft_living15    0.585379\n",
       "sqft_lot15       0.082447\n",
       "year             0.003576\n",
       "month           -0.010081\n",
       "dayofweek       -0.001695\n",
       "Name: price, dtype: float64"
      ]
     },
     "execution_count": 112,
     "metadata": {},
     "output_type": "execute_result"
    }
   ],
   "source": [
    "corr_matrix['price']"
   ]
  },
  {
   "cell_type": "markdown",
   "id": "contemporary-broadcasting",
   "metadata": {},
   "source": [
    "## Scatterplot Matrix"
   ]
  },
  {
   "cell_type": "markdown",
   "id": "mediterranean-auditor",
   "metadata": {},
   "source": [
    "scatter plot matrix represents bi-variate or pairwise relationship between different combinations of variables\n",
    "Scatter plot matrix is also referred to as pair plot as it consists of scatter plots of different variables combined in pairs\n",
    "we don't do this if we got more than 10 cause it will plot 10^10 plots & histrograms, Histrogram are actually distribution \n",
    "of variable and they don't plot graph for x againt x \n",
    "\n",
    "\n",
    "[Features correlation:]\n",
    "Assess pairwise relationships between three or more variables. This is important to understand \n",
    "relationships between different features when building machine learning model\n",
    "\n",
    "[Multicollinearity:] \n",
    "Assess the collinearity / multi-collinearity by analyzing the correlation between two or more variables.\n",
    "Recall that multi-collinearity can result in two or more predictor variables that might be providing the same information about the response variable thereby leading to unreliable coefficients of the predictor variables (especially for linear models\n",
    "\n",
    "[Data is linearly separable?:]\n",
    "Assess whether the data is linearly separable or not. The data which is linearly separable can be\n",
    "separated using a linear line. The data which isn't linearly separable would need to be applied with kernel methods. Thus, \n",
    "it may help determine machine learning algorithm one would want to use.\n",
    "\n",
    "One can analyse the pairwise relationship at several stages of machine learning model pipeline including some of the following:\n",
    "Data analysis\n",
    "Before and after feature transformations\n",
    "Feature engineering\n",
    "Feature selection\n",
    "\n",
    "Option1: from pandas.plotting import scatter_matrix\n",
    "Option2: import seaborn as sns.pairplot"
   ]
  },
  {
   "cell_type": "code",
   "execution_count": 113,
   "id": "afraid-native",
   "metadata": {},
   "outputs": [
    {
     "name": "stderr",
     "output_type": "stream",
     "text": [
      "C:\\Users\\Syed Muhammmad Hamza\\anaconda3\\envs\\PY37\\lib\\site-packages\\seaborn\\distributions.py:305: UserWarning: Dataset has 0 variance; skipping density estimate.\n",
      "  warnings.warn(msg, UserWarning)\n",
      "C:\\Users\\Syed Muhammmad Hamza\\anaconda3\\envs\\PY37\\lib\\site-packages\\seaborn\\distributions.py:305: UserWarning: Dataset has 0 variance; skipping density estimate.\n",
      "  warnings.warn(msg, UserWarning)\n",
      "C:\\Users\\Syed Muhammmad Hamza\\anaconda3\\envs\\PY37\\lib\\site-packages\\seaborn\\distributions.py:305: UserWarning: Dataset has 0 variance; skipping density estimate.\n",
      "  warnings.warn(msg, UserWarning)\n"
     ]
    },
    {
     "data": {
      "text/plain": [
       "<seaborn.axisgrid.PairGrid at 0xb921ae288>"
      ]
     },
     "execution_count": 113,
     "metadata": {},
     "output_type": "execute_result"
    },
    {
     "data": {
      "image/png": "[encoded data removed]",
      "text/plain": [
       "<Figure size 588.75x540 with 12 Axes>"
      ]
     },
     "metadata": {
      "needs_background": "light"
     },
     "output_type": "display_data"
    }
   ],
   "source": [
    "\n",
    "vars=[\"price\",\"sqft_living\",\"sqft_above\",\"grade\"]\n",
    "sns.pairplot(data[vars], hue='grade')   "
   ]
  },
  {
   "cell_type": "code",
   "execution_count": 76,
   "id": "increasing-trust",
   "metadata": {},
   "outputs": [
    {
     "data": {
      "text/plain": [
       "Index(['price', 'bedrooms', 'bathrooms', 'sqft_living', 'sqft_lot', 'floors',\n",
       "       'waterfront', 'view', 'condition', 'grade', 'sqft_above',\n",
       "       'sqft_basement', 'yr_built', 'yr_renovated', 'zipcode', 'lat', 'long',\n",
       "       'sqft_living15', 'sqft_lot15', 'year', 'month', 'dayofweek'],\n",
       "      dtype='object')"
      ]
     },
     "execution_count": 76,
     "metadata": {},
     "output_type": "execute_result"
    }
   ],
   "source": [
    "data.columns"
   ]
  },
  {
   "cell_type": "code",
   "execution_count": 229,
   "id": "cooperative-palestinian",
   "metadata": {},
   "outputs": [],
   "source": [
    "\n",
    "x=data.drop(['price'],axis='columns')\n",
    "y=data.iloc[:,0]"
   ]
  },
  {
   "cell_type": "markdown",
   "id": "compatible-chrome",
   "metadata": {},
   "source": [
    "## Normalization using sklearn\n"
   ]
  },
  {
   "cell_type": "markdown",
   "id": "indoor-forge",
   "metadata": {},
   "source": [
    "Normalization is good to use when you know that the distribution of your data does not follow a Gaussian distribution. This can be useful in algorithms that do not assume any distribution of the data like K-Nearest Neighbors and Neural Networks.\n",
    "In problems like our Regression we have Gaussain distribution A.K.A Normal distribution but just for demonstration here'show you will do it"
   ]
  },
  {
   "cell_type": "code",
   "execution_count": 158,
   "id": "antique-chapel",
   "metadata": {},
   "outputs": [
    {
     "data": {
      "text/plain": [
       "'\\n# data normalization with sklearn\\nfrom sklearn.preprocessing import MinMaxScaler\\n\\n# fit scaler on training data\\nnorm = MinMaxScaler().fit(x)\\n\\n# transform training data\\nX_norm = norm.transform(x)\\n'"
      ]
     },
     "execution_count": 158,
     "metadata": {},
     "output_type": "execute_result"
    }
   ],
   "source": [
    "'''\n",
    "# data normalization with sklearn\n",
    "from sklearn.preprocessing import MinMaxScaler\n",
    "\n",
    "# fit scaler on training data\n",
    "norm = MinMaxScaler().fit(x)\n",
    "\n",
    "# transform training data\n",
    "X_norm = norm.transform(x)\n",
    "'''\n"
   ]
  },
  {
   "cell_type": "markdown",
   "id": "coordinated-casting",
   "metadata": {},
   "source": [
    "## Standardization using sklearn"
   ]
  },
  {
   "cell_type": "markdown",
   "id": "vertical-sterling",
   "metadata": {},
   "source": [
    "Standardization, on the other hand, can be helpful in cases where the data follows a Gaussian distribution. However, this does not have to be necessarily true. Also, unlike normalization, standardization does not have a bounding range. So, even if you have outliers in your data, they will not be affected by standardization."
   ]
  },
  {
   "cell_type": "markdown",
   "id": "continuing-brunswick",
   "metadata": {},
   "source": [
    "However, at the end of the day, the choice of using normalization or standardization will depend on your problem and the machine learning algorithm you are using. There is no hard and fast rule to tell you when to normalize or standardize your data. You can always start by fitting your model to raw, normalized and standardized data and compare the performance for best results.\n",
    "\n",
    "\n",
    "clearly in our problem there is no effect at all of standardization and Normalization that just points to the fact our data does not need Feature Scaling"
   ]
  },
  {
   "cell_type": "code",
   "execution_count": 230,
   "id": "understood-accused",
   "metadata": {},
   "outputs": [],
   "source": [
    "# data standardization with  sklearn\n",
    "std = StandardScaler()\n",
    "x = std.fit_transform(x)\n",
    "\n"
   ]
  },
  {
   "cell_type": "code",
   "execution_count": 162,
   "id": "correct-grove",
   "metadata": {},
   "outputs": [
    {
     "data": {
      "text/plain": [
       "0    221900.0\n",
       "1    538000.0\n",
       "2    180000.0\n",
       "3    604000.0\n",
       "4    510000.0\n",
       "Name: price, dtype: float64"
      ]
     },
     "execution_count": 162,
     "metadata": {},
     "output_type": "execute_result"
    }
   ],
   "source": [
    "y.head()"
   ]
  },
  {
   "cell_type": "code",
   "execution_count": 231,
   "id": "academic-guidance",
   "metadata": {},
   "outputs": [],
   "source": [
    "from sklearn.model_selection import train_test_split"
   ]
  },
  {
   "cell_type": "code",
   "execution_count": 164,
   "id": "likely-ratio",
   "metadata": {},
   "outputs": [],
   "source": [
    "#x=x.drop('date',axis='columns')\n"
   ]
  },
  {
   "cell_type": "code",
   "execution_count": 232,
   "id": "canadian-flash",
   "metadata": {},
   "outputs": [],
   "source": [
    "x_train,x_test,y_train,y_test= train_test_split(x,y,test_size = 0.2, random_state = 0)"
   ]
  },
  {
   "cell_type": "code",
   "execution_count": 233,
   "id": "running-merchandise",
   "metadata": {},
   "outputs": [
    {
     "data": {
      "text/plain": [
       "numpy.ndarray"
      ]
     },
     "execution_count": 233,
     "metadata": {},
     "output_type": "execute_result"
    }
   ],
   "source": [
    "type(x_train)"
   ]
  },
  {
   "cell_type": "markdown",
   "id": "needed-poland",
   "metadata": {},
   "source": [
    "## LinearRegression"
   ]
  },
  {
   "cell_type": "code",
   "execution_count": 297,
   "id": "framed-commercial",
   "metadata": {},
   "outputs": [],
   "source": [
    "model =linear_model.LinearRegression()\n",
    "model.fit(x_train,y_train)\n",
    "y_prid=model.predict(x_test)"
   ]
  },
  {
   "cell_type": "markdown",
   "id": "polish-chapel",
   "metadata": {},
   "source": [
    "Accuracy (e.g. classification accuracy) is a measure for classification, not regression.\n",
    "We cannot calculate accuracy for a regression model.\n",
    "The skill or performance of a regression model must be reported as an error in those predictions.\n",
    "\n",
    "This makes sense if you think about it. If you are predicting a numeric value like a height or a dollar amount, you don’t want to know if the model predicted the value exactly (this might be intractably difficult in practice); instead, we want to know how close the predictions were to the expected values.\n",
    "\n",
    "There are three error metrics that are commonly used for evaluating and reporting the performance of a regression model; they are:\n",
    "\n",
    "1)Mean Squared Error (MSE).\n",
    "2)Root Mean Squared Error (RMSE).\n",
    "3)Mean Absolute Error (MAE)"
   ]
  },
  {
   "cell_type": "code",
   "execution_count": 298,
   "id": "precise-submission",
   "metadata": {},
   "outputs": [
    {
     "name": "stdout",
     "output_type": "stream",
     "text": [
      "Train Accuracy :  70.29292527894575\n",
      "Test Accuracy :  69.80990801636075\n",
      "Mean Squared Error 35903346291.52909\n",
      "Root Mean Squared Error 189481.78353480075\n",
      "Mean Absolute Error 121243.6897093018\n"
     ]
    }
   ],
   "source": [
    "print(\"Train Accuracy : \",(model.score(x_train,y_train))*100)\n",
    "print(\"Test Accuracy : \",(model.score(x_test,y_test))*100)\n",
    "#rms = mean_squared_error(y_actual, y_predicted, squared=False)\n",
    "print(\"Mean Squared Error\",mean_squared_error(y_test, y_prid))\n",
    "print(\"Root Mean Squared Error\",mean_squared_error(y_test, y_prid,squared=False))\n",
    "print(\"Mean Absolute Error\",mean_absolute_error(y_test, y_prid))\n"
   ]
  },
  {
   "cell_type": "code",
   "execution_count": 299,
   "id": "breeding-inspection",
   "metadata": {},
   "outputs": [
    {
     "data": {
      "text/plain": [
       "[<matplotlib.lines.Line2D at 0xb940f8288>]"
      ]
     },
     "execution_count": 299,
     "metadata": {},
     "output_type": "execute_result"
    },
    {
     "data": {
      "image/png": "[encoded data removed]",
      "text/plain": [
       "<Figure size 432x288 with 1 Axes>"
      ]
     },
     "metadata": {
      "needs_background": "light"
     },
     "output_type": "display_data"
    }
   ],
   "source": [
    "plt.scatter(y_test,y_prid)\n",
    "plt.plot(y_test,y_test,color='red')"
   ]
  },
  {
   "cell_type": "markdown",
   "id": "utility-seeker",
   "metadata": {},
   "source": [
    "## RegressionTree"
   ]
  },
  {
   "cell_type": "code",
   "execution_count": 300,
   "id": "aging-israeli",
   "metadata": {},
   "outputs": [
    {
     "data": {
      "text/plain": [
       "DecisionTreeRegressor(random_state=0)"
      ]
     },
     "execution_count": 300,
     "metadata": {},
     "output_type": "execute_result"
    }
   ],
   "source": [
    "from sklearn.tree import DecisionTreeRegressor \n",
    "  \n",
    "# create a regressor object\n",
    "regressor = DecisionTreeRegressor(random_state = 0) \n",
    "  \n",
    "# fit the regressor with X and Y data\n",
    "regressor.fit(x_train,y_train)"
   ]
  },
  {
   "cell_type": "code",
   "execution_count": 301,
   "id": "fallen-mitchell",
   "metadata": {},
   "outputs": [],
   "source": [
    "y_prid=regressor.predict(x_test)"
   ]
  },
  {
   "cell_type": "code",
   "execution_count": 302,
   "id": "worldwide-alexandria",
   "metadata": {},
   "outputs": [
    {
     "name": "stdout",
     "output_type": "stream",
     "text": [
      "Train Accuracy :  99.99999986969239\n",
      "Test Accuracy :  77.23649671365244\n",
      "Mean Squared Error 27071329949.60745\n",
      "Root Mean Squared Error 164533.67421171707\n",
      "Mean Absolute Error 95349.5468424705\n"
     ]
    }
   ],
   "source": [
    "\n",
    "print(\"Train Accuracy : \",(regressor.score(x_train,y_train))*100)\n",
    "print(\"Test Accuracy : \",(regressor.score(x_test,y_test))*100)\n",
    "#rms = mean_squared_error(y_actual, y_predicted, squared=False)\n",
    "print(\"Mean Squared Error\",mean_squared_error(y_test, y_prid))\n",
    "print(\"Root Mean Squared Error\",mean_squared_error(y_test, y_prid,squared=False))\n",
    "print(\"Mean Absolute Error\",mean_absolute_error(y_test, y_prid))\n"
   ]
  },
  {
   "cell_type": "code",
   "execution_count": 303,
   "id": "amateur-monthly",
   "metadata": {},
   "outputs": [
    {
     "data": {
      "text/plain": [
       "[<matplotlib.lines.Line2D at 0xb940a0e08>]"
      ]
     },
     "execution_count": 303,
     "metadata": {},
     "output_type": "execute_result"
    },
    {
     "data": {
      "image/png": "[encoded data removed]",
      "text/plain": [
       "<Figure size 432x288 with 1 Axes>"
      ]
     },
     "metadata": {
      "needs_background": "light"
     },
     "output_type": "display_data"
    }
   ],
   "source": [
    "plt.scatter(y_test,y_prid)\n",
    "plt.plot(y_test,y_test,color='red')"
   ]
  },
  {
   "cell_type": "markdown",
   "id": "iraqi-catalog",
   "metadata": {},
   "source": [
    "## Ensemble Learning Bagging(RandomForestRegressor)"
   ]
  },
  {
   "cell_type": "code",
   "execution_count": 305,
   "id": "secure-maria",
   "metadata": {},
   "outputs": [],
   "source": [
    "from sklearn.ensemble import RandomForestRegressor\n",
    "model = RandomForestRegressor()\n",
    "model.fit(x_train,y_train)\n",
    "y_prid=model.predict(x_test)"
   ]
  },
  {
   "cell_type": "code",
   "execution_count": 306,
   "id": "realistic-alarm",
   "metadata": {},
   "outputs": [
    {
     "name": "stdout",
     "output_type": "stream",
     "text": [
      "Train Accuracy :  98.24784452226893\n",
      "Test Accuracy :  89.29150356935301\n",
      "Mean Squared Error 12735001132.804628\n",
      "Root Mean Squared Error 112849.46226192055\n",
      "Mean Absolute Error 64507.989730896756\n"
     ]
    }
   ],
   "source": [
    "\n",
    "print(\"Train Accuracy : \",(model.score(x_train,y_train))*100)\n",
    "print(\"Test Accuracy : \",(model.score(x_test,y_test))*100)\n",
    "#rms = mean_squared_error(y_actual, y_predicted, squared=False)\n",
    "print(\"Mean Squared Error\",mean_squared_error(y_test, y_prid))\n",
    "print(\"Root Mean Squared Error\",mean_squared_error(y_test, y_prid,squared=False))\n",
    "print(\"Mean Absolute Error\",mean_absolute_error(y_test, y_prid))\n"
   ]
  },
  {
   "cell_type": "code",
   "execution_count": 307,
   "id": "bulgarian-credit",
   "metadata": {},
   "outputs": [
    {
     "data": {
      "text/plain": [
       "[<matplotlib.lines.Line2D at 0xba26c3bc8>]"
      ]
     },
     "execution_count": 307,
     "metadata": {},
     "output_type": "execute_result"
    },
    {
     "data": {
      "image/png": "[encoded data removed]",
      "text/plain": [
       "<Figure size 432x288 with 1 Axes>"
      ]
     },
     "metadata": {
      "needs_background": "light"
     },
     "output_type": "display_data"
    }
   ],
   "source": [
    "plt.scatter(y_test,y_prid)\n",
    "plt.plot(y_test,y_test,color='red')"
   ]
  },
  {
   "cell_type": "markdown",
   "id": "periodic-mailman",
   "metadata": {},
   "source": [
    "## Ensemble Learning Boosting(XGboost)"
   ]
  },
  {
   "cell_type": "code",
   "execution_count": 309,
   "id": "least-receipt",
   "metadata": {},
   "outputs": [],
   "source": [
    "import xgboost as xgb\n",
    "xg_reg = xgb.XGBRegressor(objective ='reg:linear', colsample_bytree = 0.3, learning_rate = 0.1,\n",
    "                max_depth = 5, alpha = 10, n_estimators = 300)"
   ]
  },
  {
   "cell_type": "code",
   "execution_count": 310,
   "id": "removed-extraction",
   "metadata": {},
   "outputs": [
    {
     "name": "stdout",
     "output_type": "stream",
     "text": [
      "[11:47:42] WARNING: d:\\bld\\xgboost-split_1615294821523\\work\\src\\objective\\regression_obj.cu:170: reg:linear is now deprecated in favor of reg:squarederror.\n"
     ]
    }
   ],
   "source": [
    "xg_reg.fit(x_train,y_train)\n",
    "y_prid = xg_reg.predict(x_test)\n",
    "\n"
   ]
  },
  {
   "cell_type": "code",
   "execution_count": 311,
   "id": "prospective-screw",
   "metadata": {},
   "outputs": [
    {
     "name": "stdout",
     "output_type": "stream",
     "text": [
      "Train Accuracy :  96.36776151025393\n",
      "Test Accuracy :  90.39554109286699\n",
      "Mean Squared Error 11422032575.204823\n",
      "Root Mean Squared Error 106873.90970299918\n",
      "Mean Absolute Error 62146.428601376356\n"
     ]
    }
   ],
   "source": [
    "print(\"Train Accuracy : \",(xg_reg.score(x_train,y_train))*100)\n",
    "print(\"Test Accuracy : \",(xg_reg.score(x_test,y_test))*100)\n",
    "#rms = mean_squared_error(y_actual, y_predicted, squared=False)\n",
    "print(\"Mean Squared Error\",mean_squared_error(y_test, y_prid))\n",
    "print(\"Root Mean Squared Error\",mean_squared_error(y_test, y_prid,squared=False))\n",
    "print(\"Mean Absolute Error\",mean_absolute_error(y_test, y_prid))"
   ]
  },
  {
   "cell_type": "code",
   "execution_count": null,
   "id": "dimensional-bacteria",
   "metadata": {},
   "outputs": [],
   "source": []
  },
  {
   "cell_type": "code",
   "execution_count": 312,
   "id": "pursuant-conspiracy",
   "metadata": {},
   "outputs": [
    {
     "data": {
      "text/plain": [
       "[<matplotlib.lines.Line2D at 0xba27378c8>]"
      ]
     },
     "execution_count": 312,
     "metadata": {},
     "output_type": "execute_result"
    },
    {
     "data": {
      "image/png": "[encoded data removed]",
      "text/plain": [
       "<Figure size 432x288 with 1 Axes>"
      ]
     },
     "metadata": {
      "needs_background": "light"
     },
     "output_type": "display_data"
    }
   ],
   "source": [
    "plt.scatter(y_test,y_prid)\n",
    "plt.plot(y_test,y_test,color='red')\n"
   ]
  }
 ],
 "metadata": {
  "kernelspec": {
   "display_name": "Python 3",
   "language": "python",
   "name": "python3"
  },
  "language_info": {
   "codemirror_mode": {
    "name": "ipython",
    "version": 3
   },
   "file_extension": ".py",
   "mimetype": "text/x-python",
   "name": "python",
   "nbconvert_exporter": "python",
   "pygments_lexer": "ipython3",
   "version": "3.7.10"
  }
 },
 "nbformat": 4,
 "nbformat_minor": 5
}
