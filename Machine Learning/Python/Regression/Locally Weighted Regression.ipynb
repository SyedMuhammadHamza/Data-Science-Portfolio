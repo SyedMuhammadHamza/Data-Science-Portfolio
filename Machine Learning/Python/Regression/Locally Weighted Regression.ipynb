{
 "cells": [
  {
   "cell_type": "code",
   "execution_count": 28,
   "id": "consistent-carrier",
   "metadata": {},
   "outputs": [],
   "source": [
    "import numpy as np\n",
    "import os\n",
    "\n",
    "from matplotlib import pyplot\n",
    "from mpl_toolkits.mplot3d import Axes3D  # needed to plot 3-D surfaces\n",
    "\n",
    "# Plotting library\n",
    "from matplotlib import pyplot\n",
    "\n",
    "# tells matplotlib to embed plots within the notebook\n",
    "%matplotlib inline"
   ]
  },
  {
   "cell_type": "code",
   "execution_count": 29,
   "id": "swedish-island",
   "metadata": {},
   "outputs": [],
   "source": [
    "def weight_evaluation_using_bell_shaped_kernel(x0, x, y, tau):\n",
    "    m = len(x)\n",
    "    w = np.array([np.exp(- ( x[i]-x0)**2/(2*tau)) for i in range(m)])\n",
    "    return w\n",
    "    \n",
    "\n",
    "def computeCostWithWeightedKernel(X, y, w, theta):\n",
    "   m=y.size\n",
    "   #s=np.sum(np.square(np.dot(X,theta)-y))\n",
    "   s=w*(np.dot(X,theta)-y)\n",
    "   j=(1/(2*m))*(np.dot(np.transpose(s),s))\n",
    "   #j=(1/2*m)*s\n",
    "   return j\n",
    "\n",
    "def gradientDescentWithWeightedKernel(X, y, w, theta, alpha, num_iters):\n",
    "    m = float(y.shape[0])\n",
    "    theta = theta.copy()\n",
    "    J_history = []\n",
    "    for i in range(num_iters):\n",
    "        #theta=(theta)-(alpha/m)*(np.dot(np.transpose((np.dot(X,theta)-y)),X))\n",
    "        theta=(theta)-(alpha/m)*(np.dot(np.transpose((w*(np.dot(X,theta)-y)),X)))\n",
    "        J_history.append(computeCost(X, y, w, theta))\n",
    "    return theta, J_history\n",
    "\n",
    "#Defining the bell shaped kernel function - used for plotting later on\n",
    "def kernel_function(xi,x0,tau= .005): \n",
    "    return np.exp( - (xi - x0)**2/(2*tau)   )\n"
   ]
  },
  {
   "cell_type": "code",
   "execution_count": 38,
   "id": "veterinary-reducing",
   "metadata": {},
   "outputs": [
    {
     "data": {
      "text/plain": [
       "array([ 6.1101,  5.5277,  8.5186,  7.0032,  5.8598,  8.3829,  7.4764,\n",
       "        8.5781,  6.4862,  5.0546,  5.7107, 14.164 ,  5.734 ,  8.4084,\n",
       "        5.6407,  5.3794,  6.3654,  5.1301,  6.4296,  7.0708,  6.1891,\n",
       "       20.27  ,  5.4901,  6.3261,  5.5649, 18.945 , 12.828 , 10.957 ,\n",
       "       13.176 , 22.203 ,  5.2524,  6.5894,  9.2482,  5.8918,  8.2111,\n",
       "        7.9334,  8.0959,  5.6063, 12.836 ,  6.3534,  5.4069,  6.8825,\n",
       "       11.708 ,  5.7737,  7.8247,  7.0931,  5.0702,  5.8014, 11.7   ,\n",
       "        5.5416,  7.5402,  5.3077,  7.4239,  7.6031,  6.3328,  6.3589,\n",
       "        6.2742,  5.6397,  9.3102,  9.4536,  8.8254,  5.1793, 21.279 ,\n",
       "       14.908 , 18.959 ,  7.2182,  8.2951, 10.236 ,  5.4994, 20.341 ,\n",
       "       10.136 ,  7.3345,  6.0062,  7.2259,  5.0269,  6.5479,  7.5386,\n",
       "        5.0365, 10.274 ,  5.1077,  5.7292,  5.1884,  6.3557,  9.7687,\n",
       "        6.5159,  8.5172,  9.1802,  6.002 ,  5.5204,  5.0594,  5.7077,\n",
       "        7.6366,  5.8707,  5.3054,  8.2934, 13.394 ,  5.4369])"
      ]
     },
     "execution_count": 38,
     "metadata": {},
     "output_type": "execute_result"
    },
    {
     "data": {
      "image/png": "[encoded data removed]",
      "text/plain": [
       "<Figure size 432x288 with 1 Axes>"
      ]
     },
     "metadata": {
      "needs_background": "light"
     },
     "output_type": "display_data"
    }
   ],
   "source": [
    "np.seterr(invalid='ignore')\n",
    " \n",
    "data = np.loadtxt(os.path.join('Data','ex1data1.txt'), delimiter=',')\n",
    "X, y = data[:, 0], data[:, 1]\n",
    "\n",
    "m = y.size  # number of training examples\n",
    "\n",
    "fig = pyplot.figure()\n",
    "pyplot.plot(X, y, 'ro', ms=10, mec='k')\n",
    "pyplot.ylabel('Profit in $10,000')\n",
    "pyplot.xlabel('Population of City in 10,000s')\n",
    "\n",
    "\n",
    "a=np.ones([m,1], dtype = int)#a is a vector of ones\n",
    "X=np.c_[a,X]#adding vector of ones to desing matrix\n",
    "\n",
    "X[:,1]\n"
   ]
  },
  {
   "cell_type": "code",
   "execution_count": null,
   "id": "intensive-dialogue",
   "metadata": {},
   "outputs": [],
   "source": [
    "\n",
    "w=weight_evaluation_using_bell_shaped_kernel(13, X[:,1], y, 0.5)\n",
    "\n",
    "theta = np.zeros(2)\n",
    "\n",
    "# some gradient descent settings\n",
    "iterations = 1500\n",
    "alpha = 0.01\n",
    "\n",
    "theta, J_history = gradientDescentWithWeightedKernel(X ,y, w, theta, alpha, iterations)\n",
    "print('Theta found by gradient descent: {:.4f}, {:.4f}'.format(*theta))\n",
    "\n",
    "fig = pyplot.figure()\n",
    "plotData(X[:, 1], y)\n",
    "pyplot.plot(X[:, 1], np.dot(X, theta), '-')\n",
    "pyplot.legend(['Training data', 'Linear regression']);\n"
   ]
  }
 ],
 "metadata": {
  "kernelspec": {
   "display_name": "Python 3",
   "language": "python",
   "name": "python3"
  },
  "language_info": {
   "codemirror_mode": {
    "name": "ipython",
    "version": 3
   },
   "file_extension": ".py",
   "mimetype": "text/x-python",
   "name": "python",
   "nbconvert_exporter": "python",
   "pygments_lexer": "ipython3",
   "version": "3.7.9"
  }
 },
 "nbformat": 4,
 "nbformat_minor": 5
}
