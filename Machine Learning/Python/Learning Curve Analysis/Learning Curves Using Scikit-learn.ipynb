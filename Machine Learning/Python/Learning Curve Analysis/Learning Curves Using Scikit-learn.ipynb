{
 "cells": [
  {
   "cell_type": "markdown",
   "id": "defensive-firewall",
   "metadata": {},
   "source": [
    "#                           Learning Curves Using Scikit-learn"
   ]
  },
  {
   "cell_type": "code",
   "execution_count": 7,
   "id": "respiratory-luther",
   "metadata": {},
   "outputs": [
    {
     "name": "stdout",
     "output_type": "stream",
     "text": [
      "<class 'pandas.core.frame.DataFrame'>\n",
      "RangeIndex: 9568 entries, 0 to 9567\n",
      "Data columns (total 5 columns):\n",
      " #   Column  Non-Null Count  Dtype  \n",
      "---  ------  --------------  -----  \n",
      " 0   AT      9568 non-null   float64\n",
      " 1   V       9568 non-null   float64\n",
      " 2   AP      9568 non-null   float64\n",
      " 3   RH      9568 non-null   float64\n",
      " 4   PE      9568 non-null   float64\n",
      "dtypes: float64(5)\n",
      "memory usage: 373.9 KB\n",
      "None\n"
     ]
    },
    {
     "data": {
      "text/html": [
       "<div>\n",
       "<style scoped>\n",
       "    .dataframe tbody tr th:only-of-type {\n",
       "        vertical-align: middle;\n",
       "    }\n",
       "\n",
       "    .dataframe tbody tr th {\n",
       "        vertical-align: top;\n",
       "    }\n",
       "\n",
       "    .dataframe thead th {\n",
       "        text-align: right;\n",
       "    }\n",
       "</style>\n",
       "<table border=\"1\" class=\"dataframe\">\n",
       "  <thead>\n",
       "    <tr style=\"text-align: right;\">\n",
       "      <th></th>\n",
       "      <th>AT</th>\n",
       "      <th>V</th>\n",
       "      <th>AP</th>\n",
       "      <th>RH</th>\n",
       "      <th>PE</th>\n",
       "    </tr>\n",
       "  </thead>\n",
       "  <tbody>\n",
       "    <tr>\n",
       "      <th>0</th>\n",
       "      <td>14.96</td>\n",
       "      <td>41.76</td>\n",
       "      <td>1024.07</td>\n",
       "      <td>73.17</td>\n",
       "      <td>463.26</td>\n",
       "    </tr>\n",
       "    <tr>\n",
       "      <th>1</th>\n",
       "      <td>25.18</td>\n",
       "      <td>62.96</td>\n",
       "      <td>1020.04</td>\n",
       "      <td>59.08</td>\n",
       "      <td>444.37</td>\n",
       "    </tr>\n",
       "    <tr>\n",
       "      <th>2</th>\n",
       "      <td>5.11</td>\n",
       "      <td>39.40</td>\n",
       "      <td>1012.16</td>\n",
       "      <td>92.14</td>\n",
       "      <td>488.56</td>\n",
       "    </tr>\n",
       "  </tbody>\n",
       "</table>\n",
       "</div>"
      ],
      "text/plain": [
       "      AT      V       AP     RH      PE\n",
       "0  14.96  41.76  1024.07  73.17  463.26\n",
       "1  25.18  62.96  1020.04  59.08  444.37\n",
       "2   5.11  39.40  1012.16  92.14  488.56"
      ]
     },
     "execution_count": 7,
     "metadata": {},
     "output_type": "execute_result"
    }
   ],
   "source": [
    "import pandas as pd\n",
    "from sklearn.linear_model import LinearRegression\n",
    "from sklearn.model_selection import learning_curve \n",
    "import matplotlib.pyplot as plt\n",
    "\n",
    "\n",
    "electricity = pd.read_excel('Folds5x2_pp.xlsx')\n",
    "print(electricity.info())\n",
    "electricity.head(3)\n"
   ]
  },
  {
   "cell_type": "code",
   "execution_count": 4,
   "id": "referenced-iceland",
   "metadata": {},
   "outputs": [],
   "source": [
    "#Deciding upon the training set sizes\n",
    "'''Given that our training set will have 7654 instances, the maximum value we can use to generate \n",
    "our learning curves is 7654. For our case, here, we use these six sizes:'''\n",
    "train_sizes = [1, 100, 500, 2000, 5000, 7654]"
   ]
  },
  {
   "cell_type": "code",
   "execution_count": 5,
   "id": "absent-constraint",
   "metadata": {},
   "outputs": [],
   "source": [
    "\n",
    "features = ['AT', 'V', 'AP', 'RH']\n",
    "target = 'PE'\n",
    "train_sizes, train_scores, validation_scores = learning_curve(\n",
    "estimator = LinearRegression(),\n",
    "X = electricity[features],\n",
    "y = electricity[target], train_sizes = train_sizes, cv = 5,\n",
    "scoring = 'neg_mean_squared_error')\n",
    "print('Training scores:\\n\\n', train_scores)\n",
    "print('\\n', '-' * 70) # separator to make the output easy to read\n",
    "print('\\nValidation scores:\\n\\n', validation_scores)"
   ]
  },
  {
   "cell_type": "code",
   "execution_count": 8,
   "id": "sought-component",
   "metadata": {},
   "outputs": [
    {
     "name": "stdout",
     "output_type": "stream",
     "text": [
      "Training scores:\n",
      "\n",
      " [[ -0.          -0.          -0.          -0.          -0.        ]\n",
      " [-19.71230701 -18.31492642 -18.31492642 -18.31492642 -18.31492642]\n",
      " [-18.14420459 -19.63885072 -19.63885072 -19.63885072 -19.63885072]\n",
      " [-21.53603444 -20.18568787 -19.98317419 -19.98317419 -19.98317419]\n",
      " [-20.47708899 -19.93364211 -20.56091569 -20.4150839  -20.4150839 ]\n",
      " [-20.98565335 -20.63006094 -21.04384703 -20.63526811 -20.52955609]]\n",
      "\n",
      " ----------------------------------------------------------------------\n",
      "\n",
      "Validation scores:\n",
      "\n",
      " [[-619.30514723 -379.81090366 -374.4107861  -370.03037109 -373.30597982]\n",
      " [ -21.80224219  -23.01103419  -20.81350389  -22.88459236  -23.44955492]\n",
      " [ -19.96005238  -21.2771561   -19.75136596  -21.4325615   -21.89067652]\n",
      " [ -19.92863783  -21.35440062  -19.62974239  -21.38631648  -21.811031  ]\n",
      " [ -19.88806264  -21.3183303   -19.68228562  -21.35019525  -21.75949097]\n",
      " [ -19.9046791   -21.33448781  -19.67831137  -21.31935146  -21.73778949]]\n"
     ]
    }
   ],
   "source": [
    "print('Training scores:\\n\\n', train_scores)\n",
    "print('\\n', '-' * 70) # separator to make the output easy to read\n",
    "print('\\nValidation scores:\\n\\n', validation_scores)"
   ]
  },
  {
   "cell_type": "markdown",
   "id": "terminal-alexander",
   "metadata": {},
   "source": [
    "Since we specified six training set sizes, you might have expected six values for each kind of score. \n",
    "Instead, we got six rows for each, and every row has five error scores. \n",
    "This happens because learning_curve() runs a k-fold cross-validation under the hood,\n",
    "where the value of k is given by what we specify for the cv parameter. In our case, cv = 5, so there will be five splits. \n",
    "For each split, an estimator is trained for every training set size specified. Each column in the two arrays above designates \n",
    "a split, and each row corresponds to a test size. Below is a table for the training error scores to help you understand the \n",
    "process better:\n",
    "scoring — indicates the error metric to use; the intention is to use the mean squared error (MSE) metric, but that’s not a possible parameter for scoring; we’ll use the nearest proxy, negative MSE, and we’ll just have to flip signs later on.\n",
    "\n",
    "\n",
    "![alt text](scores.jpg \"Title\")\n",
    "\n",
    "\n"
   ]
  },
  {
   "cell_type": "code",
   "execution_count": 12,
   "id": "important-minority",
   "metadata": {},
   "outputs": [
    {
     "name": "stdout",
     "output_type": "stream",
     "text": [
      "Mean training scores\n",
      "\n",
      " 1       -0.000000\n",
      "100     18.594403\n",
      "500     19.339921\n",
      "2000    20.334249\n",
      "5000    20.360363\n",
      "7654    20.764877\n",
      "dtype: float64\n",
      "\n",
      " --------------------\n",
      "\n",
      "Mean validation scores\n",
      "\n",
      " 1       423.372638\n",
      "100      22.392186\n",
      "500      20.862362\n",
      "2000     20.822026\n",
      "5000     20.799673\n",
      "7654     20.794924\n",
      "dtype: float64\n"
     ]
    }
   ],
   "source": [
    "'''To plot the learning curves, we need only a single error score per training set size, not 5. For this reason,\n",
    "we take the mean value of each row and also flip the signs of the error scores'''\n",
    "\n",
    "train_scores_mean = -train_scores.mean(axis = 1)\n",
    "validation_scores_mean = -validation_scores.mean(axis = 1)\n",
    "print('Mean training scores\\n\\n', pd.Series(train_scores_mean, index = train_sizes))\n",
    "print('\\n', '-' * 20) # separator\n",
    "print('\\nMean validation scores\\n\\n',pd.Series(validation_scores_mean, index = train_sizes))"
   ]
  },
  {
   "cell_type": "code",
   "execution_count": 13,
   "id": "dedicated-bridal",
   "metadata": {},
   "outputs": [
    {
     "data": {
      "text/plain": [
       "(0.0, 40.0)"
      ]
     },
     "execution_count": 13,
     "metadata": {},
     "output_type": "execute_result"
    },
    {
     "data": {
      "image/png": "[encoded data removed]",
      "text/plain": [
       "<Figure size 576x396 with 1 Axes>"
      ]
     },
     "metadata": {},
     "output_type": "display_data"
    }
   ],
   "source": [
    "'''we can see that the MSE for the training set is 0. This is normal behavior, since the model has no problem \n",
    "fitting perfectly a single data point. So when tested upon the same data point, the prediction is perfect. \n",
    "But when tested on the validation set (which has 1914 instances), the MSE rockets up to roughly 423.4. \n",
    "This relatively high value is the reason we restrict the y-axis range between 0 and 40.\n",
    "'''\n",
    "\n",
    "import matplotlib.pyplot as plt\n",
    "\n",
    "plt.style.use('seaborn')\n",
    "plt.plot(train_sizes, train_scores_mean, label = 'Training error')\n",
    "plt.plot(train_sizes, validation_scores_mean, label = 'Validation error')\n",
    "plt.ylabel('MSE', fontsize = 14)\n",
    "plt.xlabel('Training set size', fontsize = 14)\n",
    "plt.title('Learning curves for a linear regression model', fontsize = 18, y = 1.03)\n",
    "plt.legend()\n",
    "plt.ylim(0,40)"
   ]
  },
  {
   "cell_type": "markdown",
   "id": "similar-share",
   "metadata": {},
   "source": [
    "From 500 training data points onward, the validation MSE stays roughly the same. This tells us something extremely important:\n",
    "    adding more training data points won’t lead to significantly better models. So instead of wasting time (and possibly money)\n",
    "    with collecting more data, we need to try something else, \n",
    "    like switching to an algorithm that can build more complex models\n",
    "    Adding more features, however, is a different thing and is very likely to help because it will increase the complexity of our current model.\n",
    "    \n",
    "![alt text](Images/IMG2.png \"Title\")\n",
    "![alt text](Images/IMG3.png \"Title\")\n",
    "![alt text](Images/IMG4.png \"Title\")\n",
    "\n",
    "clearly it's the left case in our curve not the right\n",
    "Our learning algorithm suffers from high bias and low variance, underfitting the training data."
   ]
  },
  {
   "cell_type": "code",
   "execution_count": 14,
   "id": "collective-haven",
   "metadata": {},
   "outputs": [
    {
     "name": "stdout",
     "output_type": "stream",
     "text": [
      "Training scores:\n",
      "\n",
      " [[-4.65289095e-25 -3.23117427e-27 -3.23117427e-27 -3.23117427e-27\n",
      "  -3.23117427e-27]\n",
      " [-3.72905814e+00 -3.61530556e+00 -3.49366975e+00 -3.83416425e+00\n",
      "  -3.60539350e+00]\n",
      " [-2.19740415e+00 -2.52458962e+00 -2.37596476e+00 -2.39350497e+00\n",
      "  -2.44817705e+00]\n",
      " [-2.26406427e+00 -2.09008317e+00 -2.06900776e+00 -2.08869292e+00\n",
      "  -2.12552926e+00]\n",
      " [-1.69063061e+00 -1.61899333e+00 -1.71535327e+00 -1.72830846e+00\n",
      "  -1.79338660e+00]\n",
      " [-1.55084281e+00 -1.54559083e+00 -1.63141441e+00 -1.61643891e+00\n",
      "  -1.54649255e+00]]\n",
      "\n",
      " ----------------------------------------------------------------------\n",
      "\n",
      "Validation scores:\n",
      "\n",
      " [[-619.30514723 -379.81090366 -374.4107861  -370.03037109 -373.30597982]\n",
      " [ -24.04878484  -21.97124154  -21.10395244  -21.8856134   -22.49145494]\n",
      " [ -17.67067103  -19.38203785  -17.87718329  -19.68117949  -19.99823323]\n",
      " [ -14.9684664   -16.00777524  -14.18284175  -14.9503148   -15.54858605]\n",
      " [ -12.60724947  -13.00734574  -11.27746068  -12.01151413  -13.00297705]\n",
      " [ -11.40830884  -11.74217614   -9.94219732  -10.54795318  -11.44784402]]\n"
     ]
    }
   ],
   "source": [
    "from sklearn.ensemble import RandomForestRegressor\n",
    "\n",
    "train_sizes, train_scores, validation_scores = learning_curve(\n",
    "estimator = RandomForestRegressor(),\n",
    "X = electricity[features],\n",
    "y = electricity[target], train_sizes = train_sizes, cv = 5,\n",
    "scoring = 'neg_mean_squared_error')\n",
    "print('Training scores:\\n\\n', train_scores)\n",
    "print('\\n', '-' * 70) # separator to make the output easy to read\n",
    "print('\\nValidation scores:\\n\\n', validation_scores)\n",
    "\n"
   ]
  },
  {
   "cell_type": "code",
   "execution_count": 19,
   "id": "incorrect-camel",
   "metadata": {},
   "outputs": [
    {
     "data": {
      "text/plain": [
       "'Our learning algorithm (random forests) suffers from high variance and quite a low bias, overfitting the training data.\\nAdding more training instances is very likely to lead to better models under the current learning algorithm.\\nIncrease the regularization for our current learning algorithm. This should decrease the variance and increase the bias.\\nReducing the numbers of features in the training data we currently use. The algorithm will still fit the training data very well, \\nbut due to the decreased number of features, it will build less complex models. This should increase the bias and decrease the \\nvariance.'"
      ]
     },
     "execution_count": 19,
     "metadata": {},
     "output_type": "execute_result"
    },
    {
     "data": {
      "image/png": "[encoded data removed]",
      "text/plain": [
       "<Figure size 576x396 with 1 Axes>"
      ]
     },
     "metadata": {},
     "output_type": "display_data"
    }
   ],
   "source": [
    "train_scores_mean = -train_scores.mean(axis = 1)\n",
    "validation_scores_mean = -validation_scores.mean(axis = 1)\n",
    "\n",
    "plt.style.use('seaborn')\n",
    "plt.plot(train_sizes, train_scores_mean, label = 'Training error')\n",
    "plt.plot(train_sizes, validation_scores_mean, label = 'Validation error')\n",
    "plt.ylabel('MSE', fontsize = 14)\n",
    "plt.xlabel('Training set size', fontsize = 14)\n",
    "plt.title('Learning curves for a RandomForestRegressor model', fontsize = 18, y = 1.03)\n",
    "plt.legend()\n",
    "plt.ylim(0,40)\n",
    "\n",
    "'''Our learning algorithm (random forests) suffers from high variance and quite a low bias, overfitting the training data.\n",
    "Adding more training instances is very likely to lead to better models under the current learning algorithm.\n",
    "Increase the regularization for our current learning algorithm. This should decrease the variance and increase the bias.\n",
    "Reducing the numbers of features in the training data we currently use. The algorithm will still fit the training data very well, \n",
    "but due to the decreased number of features, it will build less complex models. This should increase the bias and decrease the \n",
    "variance.'''"
   ]
  },
  {
   "cell_type": "markdown",
   "id": "vietnamese-stopping",
   "metadata": {},
   "source": [
    "'''For classification learning curve is almost identical. The main difference is that we’ll have to choose another error metric – \n",
    "one that is suitable for evaluating the performance of a classifier\n",
    "\n",
    "Unlike what we’ve seen so far, notice that the learning curve for the training error is above the one for the validation error. \n",
    "This is because the score used, accuracy, describes how good the model is. The higher the accuracy, the better. The MSE, on \n",
    "the other side, describes how bad a model is. The lower the MSE, the better.'''\n",
    "\n",
    "![alt text](Images/IMG5.png \"Title\")\n",
    "\n"
   ]
  },
  {
   "cell_type": "code",
   "execution_count": null,
   "id": "nonprofit-express",
   "metadata": {},
   "outputs": [],
   "source": []
  }
 ],
 "metadata": {
  "kernelspec": {
   "display_name": "Python 3",
   "language": "python",
   "name": "python3"
  },
  "language_info": {
   "codemirror_mode": {
    "name": "ipython",
    "version": 3
   },
   "file_extension": ".py",
   "mimetype": "text/x-python",
   "name": "python",
   "nbconvert_exporter": "python",
   "pygments_lexer": "ipython3",
   "version": "3.7.9"
  }
 },
 "nbformat": 4,
 "nbformat_minor": 5
}
